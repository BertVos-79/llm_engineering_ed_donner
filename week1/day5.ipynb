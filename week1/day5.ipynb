{
 "cells": [
  {
   "cell_type": "markdown",
   "id": "a98030af-fcd1-4d63-a36e-38ba053498fa",
   "metadata": {},
   "source": [
    "# A full business solution\n",
    "\n",
    "## Now we will take our project from Day 1 to the next level\n",
    "\n",
    "### BUSINESS CHALLENGE:\n",
    "\n",
    "Create a product that builds a Brochure for a company to be used for prospective clients, investors and potential recruits.\n",
    "\n",
    "We will be provided a company name and their primary website.\n",
    "\n",
    "See the end of this notebook for examples of real-world business applications.\n",
    "\n",
    "And remember: I'm always available if you have problems or ideas! Please do reach out."
   ]
  },
  {
   "cell_type": "code",
   "execution_count": 1,
   "id": "d5b08506-dc8b-4443-9201-5f1848161363",
   "metadata": {},
   "outputs": [],
   "source": [
    "# imports\n",
    "# If these fail, please check you're running from an 'activated' environment with (llms) in the command prompt\n",
    "\n",
    "import os  # Module to interact with the operating system, such as accessing environment variables or file paths\n",
    "import requests  # Library for making HTTP requests to access web pages or APIs\n",
    "import json  # Provides functions to work with JSON data, such as loading and dumping JSON strings\n",
    "from typing import (\n",
    "    List,\n",
    ")  # typing module provides standard way to specify types of variables and function parameters\n",
    "# List object allows to specify the type of elements within a list\n",
    "from dotenv import (\n",
    "    load_dotenv,\n",
    ")  # Loads environment variables from a `.env` file into the system's environment variables, useful for managing sensitive information like API keys\n",
    "from bs4 import (\n",
    "    BeautifulSoup,\n",
    ")  # Imports BeautifulSoup from the bs4 library, which is used for parsing and extracting data from HTML and XML documents\n",
    "from IPython.display import (\n",
    "    Markdown,\n",
    "    display,\n",
    "    update_display,\n",
    ")  # Imports Markdown, display, and update_display from the IPython.display module, allowing for the rendering of Markdown content and dynamically displaying or updating outputs in an IPython environment, such as Jupyter notebooks\n",
    "from openai import (\n",
    "    OpenAI,\n",
    ")  # Imports OpenAI class to interact with the OpenAI API, allowing for generating responses using language models like GPT"
   ]
  },
  {
   "cell_type": "code",
   "execution_count": 2,
   "id": "fc5d8880-f2ee-4c06-af16-ecbc0262af61",
   "metadata": {},
   "outputs": [
    {
     "name": "stdout",
     "output_type": "stream",
     "text": [
      "API key looks good so far\n"
     ]
    }
   ],
   "source": [
    "# Initialize and constants\n",
    "\n",
    "load_dotenv()  # Load environment variables from a .env file into the system's environment variables\n",
    "\n",
    "# Retrieve the 'OPENAI_API_KEY' value from the environment variables\n",
    "api_key = os.getenv(\"OPENAI_API_KEY\")\n",
    "\n",
    "# Check if the API key is valid by looking for specific patterns\n",
    "if api_key and api_key.startswith(\"sk-proj-\") and len(api_key) > 10:\n",
    "    # If the API key looks correct, print a confirmation message\n",
    "    print(\"API key looks good so far\")\n",
    "else:\n",
    "    # If the API key seems incorrect, prompt the user to check for potential issues\n",
    "    print(\n",
    "        \"There might be a problem with your API key? Please visit the troubleshooting notebook!\"\n",
    "    )\n",
    "\n",
    "# Define the model that will be used for generating responses\n",
    "MODEL = \"gpt-4o-mini\"\n",
    "\n",
    "# Create an instance of OpenAI to interact with the OpenAI API\n",
    "openai = OpenAI()"
   ]
  },
  {
   "cell_type": "code",
   "execution_count": 3,
   "id": "106dd65e-90af-4ca8-86b6-23a41840645b",
   "metadata": {},
   "outputs": [],
   "source": [
    "# A class to represent a Webpage\n",
    "class Website:\n",
    "    \"\"\"\n",
    "    A utility class to represent a Website that we have scraped, now with links\n",
    "    \"\"\"\n",
    "\n",
    "    def __init__(self, url):\n",
    "        # object with 5 attributes & 1 method:\n",
    "        # - 5 attributes:\n",
    "        # 1. self.url: Stores the URL/address of the webpage.\n",
    "        # 2. self.body: Stores the full raw HTML content.\n",
    "        # 3. self.title: Extracts title from parsed HTML content if present.\n",
    "        # 4. self.text: Extracts main visible text content from parsed HTML, excluding irrelevant tags like <script> or <style>.\n",
    "        # 5. self.links: Extracts hyperlinks from parsed HTML.\n",
    "        # - 1 method:\n",
    "        # 1. get_contents(): Returns the title and main text content as a formatted string.\n",
    "\n",
    "        # Store the URL of the website\n",
    "        self.url = url\n",
    "        # Send a GET request to fetch the webpage content\n",
    "        response = requests.get(url)\n",
    "        # Store the raw HTML content of the response\n",
    "        self.body = response.content\n",
    "        # Parse the HTML content using BeautifulSoup\n",
    "        soup = BeautifulSoup(self.body, \"html.parser\")\n",
    "        # Extract the title of the webpage (if available), otherwise set it as \"No title found\"\n",
    "        self.title = soup.title.string if soup.title else \"No title found\"\n",
    "\n",
    "        # If the webpage has a <body> tag\n",
    "        if soup.body:\n",
    "            # Remove unnecessary tags such as <script>, <style>, <img>, and <input> from the body\n",
    "            for irrelevant in soup.body([\"script\", \"style\", \"img\", \"input\"]):\n",
    "                irrelevant.decompose()\n",
    "            # Extract and store the visible text content of the <body> with line breaks and trimmed whitespace\n",
    "            self.text = soup.body.get_text(separator=\"\\n\", strip=True)\n",
    "        else:\n",
    "            # If there's no <body> tag, set the text content as empty\n",
    "            self.text = \"\"\n",
    "\n",
    "        # Extract all <a> tags from the parsed HTML:\n",
    "        # the <a> tags in HTML are anchor tags, which are used to define hyperlinks that link from one page to another;\n",
    "        # the 'href' attribute within an <a> tag is what specifies the destination URL of the hyperlink,\n",
    "        # for example: <a href=\"https://example.com\">Visit Example</a>\n",
    "        # In this case, href=\"https://example.com\" is the link and .get('href') method extracts this URL value from each <a> tag\n",
    "        # get() is used so that if <a> tag does not have a href, it will return 'None' rather than raise an error\n",
    "        links = [link.get(\"href\") for link in soup.find_all(\"a\")]\n",
    "        # Store only non-empty links (i.e., href attribute is present)\n",
    "        self.links = [link for link in links if link]\n",
    "\n",
    "    # Method to get the webpage title and contents in a formatted string\n",
    "    def get_contents(self):\n",
    "        return f\"Webpage Title:\\n{self.title}\\nWebpage Contents:\\n{self.text}\\n\\n\""
   ]
  },
  {
   "cell_type": "code",
   "execution_count": 4,
   "id": "e30d8128-933b-44cc-81c8-ab4c9d86589a",
   "metadata": {},
   "outputs": [
    {
     "data": {
      "text/plain": [
       "['https://edwarddonner.com/',\n",
       " 'https://edwarddonner.com/outsmart/',\n",
       " 'https://edwarddonner.com/about-me-and-about-nebula/',\n",
       " 'https://edwarddonner.com/posts/',\n",
       " 'https://edwarddonner.com/',\n",
       " 'https://news.ycombinator.com',\n",
       " 'https://nebula.io/?utm_source=ed&utm_medium=referral',\n",
       " 'https://www.prnewswire.com/news-releases/wynden-stark-group-acquires-nyc-venture-backed-tech-startup-untapt-301269512.html',\n",
       " 'https://patents.google.com/patent/US20210049536A1/',\n",
       " 'https://www.linkedin.com/in/eddonner/',\n",
       " 'https://edwarddonner.com/2024/11/13/llm-engineering-resources/',\n",
       " 'https://edwarddonner.com/2024/11/13/llm-engineering-resources/',\n",
       " 'https://edwarddonner.com/2024/10/16/from-software-engineer-to-ai-data-scientist-resources/',\n",
       " 'https://edwarddonner.com/2024/10/16/from-software-engineer-to-ai-data-scientist-resources/',\n",
       " 'https://edwarddonner.com/2024/08/06/outsmart/',\n",
       " 'https://edwarddonner.com/2024/08/06/outsmart/',\n",
       " 'https://edwarddonner.com/2024/06/26/choosing-the-right-llm-resources/',\n",
       " 'https://edwarddonner.com/2024/06/26/choosing-the-right-llm-resources/',\n",
       " 'https://edwarddonner.com/',\n",
       " 'https://edwarddonner.com/outsmart/',\n",
       " 'https://edwarddonner.com/about-me-and-about-nebula/',\n",
       " 'https://edwarddonner.com/posts/',\n",
       " 'mailto:hello@mygroovydomain.com',\n",
       " 'https://www.linkedin.com/in/eddonner/',\n",
       " 'https://twitter.com/edwarddonner',\n",
       " 'https://www.facebook.com/edward.donner.52']"
      ]
     },
     "execution_count": 4,
     "metadata": {},
     "output_type": "execute_result"
    }
   ],
   "source": [
    "ed = Website(\"https://edwarddonner.com\")\n",
    "ed.links"
   ]
  },
  {
   "cell_type": "markdown",
   "id": "1771af9c-717a-4fca-bbbe-8a95893312c3",
   "metadata": {},
   "source": [
    "## First step: Have GPT-4o-mini figure out which links are relevant\n",
    "\n",
    "### Use a call to gpt-4o-mini to read the links on a webpage, and respond in structured JSON.  \n",
    "\n",
    "It should:\n",
    "\n",
    "    a) decide which links are relevant, and\n",
    "    b) replace relevant links such as \"/about\" with \"https://company.com/about\".  \n",
    "    \n",
    "To illustrate this for the model, we will use \"one shot prompting\" in which we provide an example of how it should respond in the prompt.\n",
    "\n",
    "This is an excellent use case for an LLM, because it requires nuanced understanding. Imagine trying to code this without LLMs by parsing and analyzing the webpage - it would be very hard!\n",
    "\n",
    "Sidenote: there is a more advanced technique called \"Structured Outputs\" in which we require the model to respond according to a spec. We cover this technique in Week 8 during our autonomous Agentic AI project."
   ]
  },
  {
   "cell_type": "code",
   "execution_count": 5,
   "id": "6957b079-0d96-45f7-a26a-3487510e9b35",
   "metadata": {},
   "outputs": [],
   "source": [
    "link_system_prompt = \"You are provided with a list of links found on a webpage. \\\n",
    "You are able to decide which of the links would be most relevant to include in a brochure about the company, \\\n",
    "such as links to an About page, or a Company page, or Careers/Jobs pages.\\n\"\n",
    "link_system_prompt += \"You should respond in JSON as in this example:\"\n",
    "link_system_prompt += \"\"\"\n",
    "{\n",
    "    \"links\": [\n",
    "        {\"type\": \"about page\", \"url\": \"https://full.url/goes/here/about\"},\n",
    "        {\"type\": \"careers page\": \"url\": \"https://another.full.url/careers\"}\n",
    "    ]\n",
    "}\n",
    "\"\"\""
   ]
  },
  {
   "cell_type": "code",
   "execution_count": 6,
   "id": "b97e4068-97ed-4120-beae-c42105e4d59a",
   "metadata": {},
   "outputs": [
    {
     "name": "stdout",
     "output_type": "stream",
     "text": [
      "You are provided with a list of links found on a webpage. You are able to decide which of the links would be most relevant to include in a brochure about the company, such as links to an About page, or a Company page, or Careers/Jobs pages.\n",
      "You should respond in JSON as in this example:\n",
      "{\n",
      "    \"links\": [\n",
      "        {\"type\": \"about page\", \"url\": \"https://full.url/goes/here/about\"},\n",
      "        {\"type\": \"careers page\": \"url\": \"https://another.full.url/careers\"}\n",
      "    ]\n",
      "}\n",
      "\n"
     ]
    }
   ],
   "source": [
    "print(link_system_prompt)"
   ]
  },
  {
   "cell_type": "code",
   "execution_count": 7,
   "id": "8e1f601b-2eaf-499d-b6b8-c99050c9d6b3",
   "metadata": {},
   "outputs": [],
   "source": [
    "def get_links_user_prompt(website):\n",
    "    user_prompt = f\"Here is the list of links on the website of {website.url} - \"\n",
    "    user_prompt += \"please decide which of these are relevant web links for a brochure about the company, respond with the full https URL in JSON format. \\\n",
    "Do not include Terms of Service, Privacy, email links.\\n\"\n",
    "    user_prompt += \"Links (some might be relative links):\\n\"\n",
    "    user_prompt += \"\\n\".join(website.links)\n",
    "    return user_prompt"
   ]
  },
  {
   "cell_type": "code",
   "execution_count": 8,
   "id": "6bcbfa78-6395-4685-b92c-22d592050fd7",
   "metadata": {},
   "outputs": [
    {
     "name": "stdout",
     "output_type": "stream",
     "text": [
      "Here is the list of links on the website of https://edwarddonner.com - please decide which of these are relevant web links for a brochure about the company, respond with the full https URL in JSON format. Do not include Terms of Service, Privacy, email links.\n",
      "Links (some might be relative links):\n",
      "https://edwarddonner.com/\n",
      "https://edwarddonner.com/outsmart/\n",
      "https://edwarddonner.com/about-me-and-about-nebula/\n",
      "https://edwarddonner.com/posts/\n",
      "https://edwarddonner.com/\n",
      "https://news.ycombinator.com\n",
      "https://nebula.io/?utm_source=ed&utm_medium=referral\n",
      "https://www.prnewswire.com/news-releases/wynden-stark-group-acquires-nyc-venture-backed-tech-startup-untapt-301269512.html\n",
      "https://patents.google.com/patent/US20210049536A1/\n",
      "https://www.linkedin.com/in/eddonner/\n",
      "https://edwarddonner.com/2024/11/13/llm-engineering-resources/\n",
      "https://edwarddonner.com/2024/11/13/llm-engineering-resources/\n",
      "https://edwarddonner.com/2024/10/16/from-software-engineer-to-ai-data-scientist-resources/\n",
      "https://edwarddonner.com/2024/10/16/from-software-engineer-to-ai-data-scientist-resources/\n",
      "https://edwarddonner.com/2024/08/06/outsmart/\n",
      "https://edwarddonner.com/2024/08/06/outsmart/\n",
      "https://edwarddonner.com/2024/06/26/choosing-the-right-llm-resources/\n",
      "https://edwarddonner.com/2024/06/26/choosing-the-right-llm-resources/\n",
      "https://edwarddonner.com/\n",
      "https://edwarddonner.com/outsmart/\n",
      "https://edwarddonner.com/about-me-and-about-nebula/\n",
      "https://edwarddonner.com/posts/\n",
      "mailto:hello@mygroovydomain.com\n",
      "https://www.linkedin.com/in/eddonner/\n",
      "https://twitter.com/edwarddonner\n",
      "https://www.facebook.com/edward.donner.52\n"
     ]
    }
   ],
   "source": [
    "print(get_links_user_prompt(ed))"
   ]
  },
  {
   "cell_type": "code",
   "execution_count": 9,
   "id": "a29aca19-ca13-471c-a4b4-5abbfa813f69",
   "metadata": {},
   "outputs": [],
   "source": [
    "# Define a function named `get_links` that takes a URL as an argument\n",
    "def get_links(url):\n",
    "    # Create an instance of the Website class with the given URL, which will scrape the webpage\n",
    "    website = Website(url)\n",
    "\n",
    "    # Create a chat completion request using OpenAI's API:\n",
    "    # openai is an instance of OpenAI Class that provides an interface to interact with OpenAI's API;\n",
    "    # .chat attribute of openai object that allows to interact with with chat-based OpenAI models that\n",
    "    #       can handle conversational input and produce conversational responses\n",
    "    # .completions attribute of .chat attribute refers to the act of generating output text given an\n",
    "    #       input prompt, the model's ability to predict the most suitable text to complete the given context\n",
    "    # .create() method of .completions attribute sends a request to openai object to create a completion\n",
    "    #       according to paramaters that are passed in:\n",
    "    # .create(model = language model to use to generate completion, messages = list of prompts to provide\n",
    "    #       context to conversation, etc)\n",
    "    response = openai.chat.completions.create(\n",
    "        # Specify the model to be used for generating the completion\n",
    "        model=MODEL,\n",
    "        # Provide the conversation messages for the model to work with\n",
    "        messages=[\n",
    "            # The system message to instruct the behavior of the model (e.g., providing context or guidelines)\n",
    "            {\"role\": \"system\", \"content\": link_system_prompt},\n",
    "            # The user message with the content generated based on the website data (\n",
    "            # e.g., a question or prompt to interact with the website's links)\n",
    "            {\"role\": \"user\", \"content\": get_links_user_prompt(website)},\n",
    "        ],\n",
    "        # Specify the format in which you want the response; in this case, requesting a JSON object\n",
    "        response_format={\"type\": \"json_object\"},\n",
    "    )\n",
    "\n",
    "    # Extract the generated text from the response object returned from the OpenAI API call\n",
    "    # .choices: attribute of the response object, a list that contains all the possible responses\n",
    "    #          (or completions) that the model generated based on given input;\n",
    "    # .choices[0]: from this list first (and in this case only) completion is selected.\n",
    "    # .message: attribute of .choice, which contains a role (either \"user\", \"assistant\",\n",
    "    #          or \"system\") to indicate who generated it and content (the generated response).\n",
    "    #          a. User: Represents the person interacting with the AI, asking questions or giving commands;\n",
    "    #          b. System: The context or persona for the assistant's behavior during the conversation.\n",
    "    #          c. Assistant: Represents the AI itself, generating responses to fulfill the user's requests.\n",
    "    # .content: attribute of .message, which contains the actual text content generated by the Assistant/model\n",
    "    #          represented as a string representation in Python of a JSON object.\n",
    "    result = response.choices[0].message.content\n",
    "\n",
    "    # the return value is this result, but loads the string representation of the JSON object and converts it\n",
    "    # into/parses it to a dictionary\n",
    "    return json.loads(result)"
   ]
  },
  {
   "cell_type": "code",
   "execution_count": 10,
   "id": "74a827a0-2782-4ae5-b210-4a242a8b4cc2",
   "metadata": {},
   "outputs": [
    {
     "data": {
      "text/plain": [
       "[]"
      ]
     },
     "execution_count": 10,
     "metadata": {},
     "output_type": "execute_result"
    }
   ],
   "source": [
    "anthropic = Website(\"https://anthropic.com\")\n",
    "anthropic.links"
   ]
  },
  {
   "cell_type": "code",
   "execution_count": 11,
   "id": "d3d583e2-dcc4-40cc-9b28-1e8dbf402924",
   "metadata": {},
   "outputs": [
    {
     "data": {
      "text/plain": [
       "{'links': [{'type': 'about page', 'url': 'https://anthropic.com/about'},\n",
       "  {'type': 'careers page', 'url': 'https://anthropic.com/careers'}]}"
      ]
     },
     "execution_count": 11,
     "metadata": {},
     "output_type": "execute_result"
    }
   ],
   "source": [
    "get_links(\"https://anthropic.com\")"
   ]
  },
  {
   "cell_type": "markdown",
   "id": "0d74128e-dfb6-47ec-9549-288b621c838c",
   "metadata": {},
   "source": [
    "## Second step: make the brochure!\n",
    "\n",
    "Assemble all the details into another prompt to GPT4-o"
   ]
  },
  {
   "cell_type": "code",
   "execution_count": 12,
   "id": "85a5b6e2-e7ef-44a9-bc7f-59ede71037b5",
   "metadata": {},
   "outputs": [],
   "source": [
    "# Define a function named 'get_all_details' that takes a URL as an argument\n",
    "def get_all_details(url):\n",
    "    # Initialize 'result' with the heading for the landing page details\n",
    "    result = \"Landing page:\\n\"\n",
    "\n",
    "    # Create a Website object for the given URL, and append its content to 'result'\n",
    "    result += Website(url).get_contents()\n",
    "\n",
    "    # Get all links found on the webpage by using the 'get_links' function\n",
    "    links = get_links(url)\n",
    "\n",
    "    # Print out the found links to the console for debugging or information purposes\n",
    "    print(\"Found links:\", links)\n",
    "\n",
    "    # Iterate through each link found in the \"links\" key of the returned dictionary\n",
    "    for link in links[\"links\"]:\n",
    "        # Append the type of the link (e.g., internal or external) to 'result'\n",
    "        result += f\"\\n\\n{link['type']}\\n\"\n",
    "\n",
    "        # Create a Website object for the link's URL and append its content to 'result'\n",
    "        result += Website(link[\"url\"]).get_contents()\n",
    "\n",
    "    # Return the complete 'result' with all the details collected from the landing page and the links\n",
    "    return result"
   ]
  },
  {
   "cell_type": "code",
   "execution_count": 13,
   "id": "5099bd14-076d-4745-baf3-dac08d8e5ab2",
   "metadata": {},
   "outputs": [
    {
     "name": "stdout",
     "output_type": "stream",
     "text": [
      "Found links: {'links': [{'type': 'about page', 'url': 'https://anthropic.com/about'}, {'type': 'careers page', 'url': 'https://anthropic.com/careers'}]}\n",
      "Landing page:\n",
      "Webpage Title:\n",
      "Home \\ Anthropic\n",
      "Webpage Contents:\n",
      "\n",
      "\n",
      "\n",
      "\n",
      "about page\n",
      "Webpage Title:\n",
      "Not Found \\ Anthropic\n",
      "Webpage Contents:\n",
      "\n",
      "\n",
      "\n",
      "\n",
      "careers page\n",
      "Webpage Title:\n",
      "Careers \\ Anthropic\n",
      "Webpage Contents:\n",
      "\n",
      "\n",
      "\n"
     ]
    }
   ],
   "source": [
    "print(get_all_details(\"https://anthropic.com\"))"
   ]
  },
  {
   "cell_type": "code",
   "execution_count": 14,
   "id": "9b863a55-f86c-4e3f-8a79-94e24c1a8cf2",
   "metadata": {},
   "outputs": [],
   "source": [
    "system_prompt = \"You are an assistant that analyzes the contents of several relevant pages from a company website \\\n",
    "and creates a short brochure about the company for prospective customers, investors and recruits. Respond in markdown.\\\n",
    "Include details of company culture, customers and careers/jobs if you have the information.\"\n",
    "\n",
    "# Or uncomment the lines below for a more humorous brochure - this demonstrates how easy it is to incorporate 'tone':\n",
    "\n",
    "# system_prompt = \"You are an assistant that analyzes the contents of several relevant pages from a company website \\\n",
    "# and creates a short humorous, entertaining, jokey brochure about the company for prospective customers, investors and recruits. Respond in markdown.\\\n",
    "# Include details of company culture, customers and careers/jobs if you have the information.\""
   ]
  },
  {
   "cell_type": "code",
   "execution_count": 15,
   "id": "6ab83d92-d36b-4ce0-8bcc-5bb4c2f8ff23",
   "metadata": {},
   "outputs": [],
   "source": [
    "def get_brochure_user_prompt(company_name, url):\n",
    "    user_prompt = f\"You are looking at a company called: {company_name}\\n\"\n",
    "    user_prompt += f\"Here are the contents of its landing page and other relevant pages; use this information to build a short brochure of the company in markdown.\\n\"\n",
    "    user_prompt += get_all_details(url)\n",
    "    user_prompt = user_prompt[:20_000]  # Truncate if more than 20,000 characters\n",
    "    return user_prompt"
   ]
  },
  {
   "cell_type": "code",
   "execution_count": 16,
   "id": "cd909e0b-1312-4ce2-a553-821e795d7572",
   "metadata": {},
   "outputs": [
    {
     "name": "stdout",
     "output_type": "stream",
     "text": [
      "Found links: {'links': [{'type': 'about page', 'url': 'https://anthropic.com/about'}, {'type': 'careers page', 'url': 'https://anthropic.com/careers'}]}\n"
     ]
    },
    {
     "data": {
      "text/plain": [
       "'You are looking at a company called: Anthropic\\nHere are the contents of its landing page and other relevant pages; use this information to build a short brochure of the company in markdown.\\nLanding page:\\nWebpage Title:\\nHome \\\\ Anthropic\\nWebpage Contents:\\n\\n\\n\\n\\nabout page\\nWebpage Title:\\nNot Found \\\\ Anthropic\\nWebpage Contents:\\n\\n\\n\\n\\ncareers page\\nWebpage Title:\\nCareers \\\\ Anthropic\\nWebpage Contents:\\n\\n\\n'"
      ]
     },
     "execution_count": 16,
     "metadata": {},
     "output_type": "execute_result"
    }
   ],
   "source": [
    "get_brochure_user_prompt(\"Anthropic\", \"https://anthropic.com\")"
   ]
  },
  {
   "cell_type": "code",
   "execution_count": 17,
   "id": "e44de579-4a1a-4e6a-a510-20ea3e4b8d46",
   "metadata": {},
   "outputs": [],
   "source": [
    "def create_brochure(company_name, url):\n",
    "    response = openai.chat.completions.create(\n",
    "        model=MODEL,\n",
    "        messages=[\n",
    "            {\"role\": \"system\", \"content\": system_prompt},\n",
    "            {\"role\": \"user\", \"content\": get_brochure_user_prompt(company_name, url)},\n",
    "        ],\n",
    "    )\n",
    "    result = response.choices[0].message.content\n",
    "    # Display the response content JSON string as formatted Markdown in the output cell\n",
    "    # result: a JSON string that actually contains text formatted using Markdown syntax\n",
    "    # markdown(): function that takes the JSON string stored in result and interprets it correctly as Markdown in Python\n",
    "    # display(): function that takes the formatted Markdown content and displays it visually in the Jupyter Notebook cell\n",
    "    # (if display were not called, the formatted Markdown content would be rendered as plain text)\n",
    "    display(Markdown(result))"
   ]
  },
  {
   "cell_type": "code",
   "execution_count": 18,
   "id": "e093444a-9407-42ae-924a-145730591a39",
   "metadata": {},
   "outputs": [
    {
     "name": "stdout",
     "output_type": "stream",
     "text": [
      "Found links: {'links': [{'type': 'about page', 'url': 'https://anthropic.com/about'}, {'type': 'careers page', 'url': 'https://anthropic.com/careers'}]}\n"
     ]
    },
    {
     "data": {
      "text/markdown": [
       "# Anthropic Company Brochure\n",
       "\n",
       "## Welcome to Anthropic\n",
       "\n",
       "At Anthropic, we are on a mission to advance artificial intelligence in a way that is safe, ethical, and beneficial for everyone. Our commitment to harnessing the power of AI technology while prioritizing safety and humanity defines our approach and distinguishes us in the tech landscape.\n",
       "\n",
       "## Company Culture\n",
       "\n",
       "At Anthropic, our culture is rooted in collaboration and innovation. We believe that the best ideas come from diverse perspectives and teamwork, which helps us tackle the complex challenges associated with AI development. Our team is encouraged to think creatively, share freely, and work together toward common goals. We value transparency and encourage open discussions about our projects, methodologies, and ethical considerations.\n",
       "\n",
       "Our workplace fosters professional growth and encourages continuous learning. We are committed to creating an inclusive environment where every employee feels valued and empowered to contribute. \n",
       "\n",
       "## Our Customers\n",
       "\n",
       "Anthropic serves a wide range of clients and partners, focusing on those who share our vision of developing AI that is safe and beneficial. Although specific customer details were not provided, we strive to collaborate with organizations that prioritize ethical AI development and share our commitment to making a positive impact across various sectors.\n",
       "\n",
       "## Careers at Anthropic\n",
       "\n",
       "We are always on the lookout for passionate and talented individuals who are eager to help shape the future of AI. Joining Anthropic means becoming part of a mission-driven team focused on creating technology that aligns with human values.\n",
       "\n",
       "### Why Work with Us?\n",
       "- **Innovative Environment**: Work alongside leading experts in AI.\n",
       "- **Commitment to Safety**: Be part of a team that prioritizes ethical considerations and safety in AI development.\n",
       "- **Growth Opportunities**: We support professional development and continuous learning within our team.\n",
       "\n",
       "Interested candidates can explore our careers page to discover current job openings and learn more about what it’s like to work at Anthropic.\n",
       "\n",
       "---\n",
       "\n",
       "For more information, please visit our [website](https://www.anthropic.com). Join us in redefining the future of AI!"
      ],
      "text/plain": [
       "<IPython.core.display.Markdown object>"
      ]
     },
     "metadata": {},
     "output_type": "display_data"
    }
   ],
   "source": [
    "create_brochure(\"Anthropic\", \"https://anthropic.com\")"
   ]
  },
  {
   "cell_type": "markdown",
   "id": "61eaaab7-0b47-4b29-82d4-75d474ad8d18",
   "metadata": {},
   "source": [
    "## Finally - a minor improvement\n",
    "\n",
    "With a small adjustment, we can change this so that the results stream back from OpenAI,\n",
    "with the familiar typewriter animation"
   ]
  },
  {
   "cell_type": "code",
   "execution_count": 19,
   "id": "51db0e49-f261-4137-aabe-92dd601f7725",
   "metadata": {},
   "outputs": [],
   "source": [
    "# Function to stream the creation of a brochure in real-time\n",
    "def stream_brochure(company_name, url):\n",
    "    stream = openai.chat.completions.create(\n",
    "        model=MODEL,\n",
    "        messages=[\n",
    "            {\"role\": \"system\", \"content\": system_prompt},\n",
    "            {\"role\": \"user\", \"content\": get_brochure_user_prompt(company_name, url)},\n",
    "        ],\n",
    "        stream=True,  # This is the small adjustment that enables streaming of the result\n",
    "        # instead of waiting for the entire response to be generated, streaming sends data \n",
    "        # in chunks as it becomes available, providing the typewriter animation effect\n",
    "    )\n",
    "\n",
    "    # Initialize an empty string to collect the response as it streams\n",
    "    response = \"\"\n",
    "\n",
    "    # Create a display handle with an empty Markdown output (i.e. without concrete content \n",
    "    # for now) for real-time updates (later):\n",
    "    # display(): function that returns a display object (or handle)\n",
    "    # Parameters define metadata of the display object:\n",
    "    # Markdown(\"\"): initializes an empty Markdown content (to be displayed later when\n",
    "    #               content will be generated)\n",
    "    # display_id=True: instructs the display() function to create a unique display ID\n",
    "    #               once output is generated, allowing it to be referred to later\n",
    "    #               This allows the display to be updated dynamically during streaming,\n",
    "    #               ensuring real-time content updates in the same output cell\n",
    "    display_handle = display(Markdown(\"\"), display_id=True)\n",
    "\n",
    "    # Iterate over each \"chunk\" of data that comes in from the stream\n",
    "    for chunk in stream:\n",
    "        # Add the streamed content (if available) to the ongoing response\n",
    "        # chunk: a single incremental portion of the response, a dictionary including\n",
    "        #        metadata (role of speaker, completion details, message deltas) and contents\n",
    "        # .choices: an attribute of the chunk object, and it is a list containing the \n",
    "        #        available response choices\n",
    "        # .choices[0]: since we are streaming, there is generally only one choice being\n",
    "        #        returned at any given time, so the list will have one element, accessed by [0]\n",
    "        # .delta: an attribute of the chosen element .choices[0] in the chunk object, \n",
    "        #        delta represents a small, incremental update or change\n",
    "        # .content: an attribute of the delta object, it represents the actual text \n",
    "        #        content of the current chunk\n",
    "        # or ' ': if content is not present (e.g., empty chunk), it defaults to '' to\n",
    "        #        avoid errors\n",
    "        response += chunk.choices[0].delta.content or \"\"\n",
    "\n",
    "        # Remove unwanted formatting markers (e.g., ``` and \"markdown\") from the response to keep the display clean\n",
    "        response = response.replace(\"```\", \"\").replace(\"markdown\", \"\")\n",
    "\n",
    "        # Update the displayed Markdown content in real-time with the current response\n",
    "        # update_display(): A function that updates an existing display with new content\n",
    "        #          instead of creating a new display cell each time, ensuring continuous \n",
    "        #          output in the same cell\n",
    "        # Markdown(response): Takes the response string, which is incrementally built during\n",
    "        #          streaming, and converts it into a Markdown object for proper formatting\n",
    "        # display_id=...: Identifies which existing display should be updated by linking it\n",
    "        #         to a specific display that was created earlier\n",
    "        # display_id=display_handle.display_id: Links the current update to the original \n",
    "        #         display created earlier, using its unique ID, ensuring that the correct \n",
    "        #         display is modified rather than creating a new one\n",
    "        update_display(Markdown(response), display_id=display_handle.display_id)"
   ]
  },
  {
   "cell_type": "code",
   "execution_count": 20,
   "id": "56bf0ae3-ee9d-4a72-9cd6-edcac67ceb6d",
   "metadata": {},
   "outputs": [
    {
     "name": "stdout",
     "output_type": "stream",
     "text": [
      "Found links: {'links': [{'type': 'about page', 'url': 'https://anthropic.com/about/'}, {'type': 'careers page', 'url': 'https://anthropic.com/careers/'}]}\n"
     ]
    },
    {
     "data": {
      "text/markdown": [
       "# Anthropic Company Brochure\n",
       "\n",
       "---\n",
       "\n",
       "## About Anthropic\n",
       "\n",
       "Anthropic is an innovative technology company focused on advancing AI capabilities while prioritizing safety and ethical considerations. Although specific details from the \"About\" page are not available, Anthropic is recognized for its commitment to creating powerful AI systems that are aligned with human values, ensuring technology enhances society rather than disrupts it.\n",
       "\n",
       "### Our Mission\n",
       "\n",
       "At Anthropic, our mission is to conduct research and development in artificial intelligence that prioritizes safety, trustworthiness, and human alignment. We believe that as AI technologies become more integrated into everyday life, it is essential to keep human interests at the forefront of innovation.\n",
       "\n",
       "---\n",
       "\n",
       "## Company Culture\n",
       "\n",
       "Anthropic fosters a dynamic and inclusive company culture that values diverse perspectives and collaborative work. We emphasize the importance of a positive work environment where employees can thrive both personally and professionally.\n",
       "\n",
       "- **Inclusivity**: We celebrate diversity and strive to create an environment where every voice is heard.\n",
       "- **Innovation**: Continuous learning and experimentation drive our approach to problem-solving and creative solutions.\n",
       "- **Integrity**: We uphold high ethical standards in all our efforts, ensuring that our technological advancements are responsible and beneficial.\n",
       "\n",
       "---\n",
       "\n",
       "## Our Customers\n",
       "\n",
       "Anthropic serves a wide range of clients, from startups to established enterprises, looking to harness the power of AI. Our customers appreciate our focus on developing reliable, safe, and effective AI systems that meet their specific needs and help them achieve their goals.\n",
       "\n",
       "---\n",
       "\n",
       "## Careers at Anthropic\n",
       "\n",
       "We are always on the lookout for talented individuals to join our team. At Anthropic, we offer:\n",
       "\n",
       "- **Challenging Projects**: Engage in meaningful work that shapes the future of AI and technology.\n",
       "- **Professional Growth**: Access to learning opportunities, mentorship, and career development paths.\n",
       "- **Competitive Benefits**: We provide a comprehensive compensation package designed to support our employees' well-being and work-life balance.\n",
       "\n",
       "If you are passionate about AI and want to be part of a forward-thinking team, check our careers page for the latest job openings and opportunities to join us in our mission.\n",
       "\n",
       "---\n",
       "\n",
       "**Join us at Anthropic, where we lead the way to a new era of artificial intelligence!**\n",
       "\n",
       "For more information, visit our website or contact us directly."
      ],
      "text/plain": [
       "<IPython.core.display.Markdown object>"
      ]
     },
     "metadata": {},
     "output_type": "display_data"
    }
   ],
   "source": [
    "stream_brochure(\"Anthropic\", \"https://anthropic.com\")"
   ]
  },
  {
   "cell_type": "code",
   "execution_count": 21,
   "id": "a0474ae2-2a52-4f2f-a5a2-c2f29e75b378",
   "metadata": {},
   "outputs": [
    {
     "name": "stdout",
     "output_type": "stream",
     "text": [
      "Found links: {'links': [{'type': 'about page', 'url': 'https://huggingface.co/huggingface'}, {'type': 'careers page', 'url': 'https://apply.workable.com/huggingface/'}, {'type': 'enterprise page', 'url': 'https://huggingface.co/enterprise'}, {'type': 'pricing page', 'url': 'https://huggingface.co/pricing'}, {'type': 'blog page', 'url': 'https://huggingface.co/blog'}, {'type': 'doc page', 'url': 'https://huggingface.co/docs'}, {'type': 'community page', 'url': 'https://discuss.huggingface.co'}]}\n"
     ]
    },
    {
     "data": {
      "text/markdown": [
       "\n",
       "# Welcome to Hugging Face! 🤗\n",
       "\n",
       "## The AI Community Building the Future (And We Promise, It’s Not All Robots!)\n",
       "\n",
       "At Hugging Face, we believe that every dreamer deserves access to cutting-edge machine learning tools. Our community is the friendly—and occasionally over-caffeinated—hub for AI enthusiasts, engineers, and beginners alike. Join us on this journey to transform the machine-learning universe, ***one relatable tweet at a time***!\n",
       "\n",
       "---\n",
       "\n",
       "## Our Offerings: More than Just Lots of Models!\n",
       "\n",
       "- **400k+ Models & 100k+ Datasets**: Enough data to make your head spin faster than a neural network!  \n",
       "- **Spaces**: Think of this as your AI playground, where your imagination can run wild without the fear of a messy room. \n",
       "- **HuggingChat**: Have a chat with our AI models—though we can’t guarantee they won't steal your favorite memes.\n",
       "\n",
       "---\n",
       "\n",
       "## Our Customers: Who’s in on the Fun?\n",
       "\n",
       "More than **50,000 organizations** are using Hugging Face! That includes heavyweight champions like Google, Microsoft, and Amazon—basically, if there's an AI involved, we're probably in the mix! 🤓\n",
       "\n",
       "---\n",
       "\n",
       "## Company Culture: Join The Fam!\n",
       "\n",
       "At Hugging Face, we embrace diversity, creativity, and just a smidge of quirkiness. Our team is comprised of **224 passionate individuals**, and we're always on the lookout for more spirited minds. Whether you’re a data scientist or a meme generator, there's a place for you here! \n",
       "\n",
       "- **Collaboration**: We prefer sharing ideas over coffee (or maybe an espresso shot or two). \n",
       "- **Open Source**: We’re all about that good karma, sharing our tools and tips with the community because we can’t store all this genius for ourselves! Your code has feelings too, you know? \n",
       "\n",
       "---\n",
       "\n",
       "## Careers: Come Work With Us!\n",
       "\n",
       "If you’re interested in blending fun with a future in AI, check out our **Current Openings**! Who knows? You might just land a gig where 'snack breaks' and 'model training' can occur simultaneously! \n",
       "\n",
       "The jobs are as diverse as our personality types. We don’t just hire engineers; we want artists, musicians, and poets too! \n",
       "\n",
       "---\n",
       "\n",
       "## Pricing that’s as Transparent as Our Goals\n",
       "\n",
       "- **Free Tier**: For those just dipping their toes into the ML water (don't worry, we promise it's not too cold!).\n",
       "- **Pro at $9/month**: Unlock extras like high-fives from community members (virtually) and priority support!\n",
       "- **Enterprise Hub**: Want your own data fortress with extra bells and whistles? It's just $20 per user, plus a layer of enterprise-grade security that could withstand a digital siege!\n",
       "\n",
       "---\n",
       "\n",
       "## Get Involved & Join Our Hugging Family! 🎉\n",
       "\n",
       "Join us as we scale the peaks of machine learning (while avoiding 'deep learning' puns... or maybe not!). Visit our [website](https://huggingface.co) to sign up, collaborate, and contribute!\n",
       "\n",
       "![We Hug, You Hug, We All Hug AI!](https://images.unsplash.com/photo-1644241440480-b8a40f7f456b)\n",
       "\n",
       "*Because in the end, we're all just trying to make the world a little more 'hugging' and a lot less facepalmy!*\n",
       "\n",
       "## Connect with Us\n",
       "- [GitHub](https://github.com/huggingface) \n",
       "- [Twitter](https://twitter.com/huggingface)\n",
       "- [LinkedIn](https://www.linkedin.com/company/huggingface)\n",
       "- [Discord](https://discord.com/invite/huggingface)\n",
       "\n",
       "*Get ready to join the AI revolution (and don't forget your sense of humor)!* 😊\n",
       "\n"
      ],
      "text/plain": [
       "<IPython.core.display.Markdown object>"
      ]
     },
     "metadata": {},
     "output_type": "display_data"
    }
   ],
   "source": [
    "# Try changing the system prompt to the humorous version when you make the Brochure for Hugging Face:\n",
    "\n",
    "system_prompt = \"You are an assistant that analyzes the contents of several relevant pages from a company website \\\n",
    "and creates a short humorous, entertaining, jokey brochure about the company for prospective customers, investors and recruits. Respond in markdown.\\\n",
    "Include details of company culture, customers and careers/jobs if you have the information.\"\n",
    "\n",
    "\n",
    "stream_brochure(\"HuggingFace\", \"https://huggingface.co\")"
   ]
  },
  {
   "cell_type": "markdown",
   "id": "a27bf9e0-665f-4645-b66b-9725e2a959b5",
   "metadata": {},
   "source": [
    "<table style=\"margin: 0; text-align: left;\">\n",
    "    <tr>\n",
    "        <td style=\"width: 150px; height: 150px; vertical-align: middle;\">\n",
    "            <img src=\"../business.jpg\" width=\"150\" height=\"150\" style=\"display: block;\" />\n",
    "        </td>\n",
    "        <td>\n",
    "            <h2 style=\"color:#181;\">Business applications</h2>\n",
    "            <span style=\"color:#181;\">In this exercise we extended the Day 1 code to make multiple LLM calls, and generate a document.\n",
    "\n",
    "This is perhaps the first example of Agentic AI design patterns, as we combined multiple calls to LLMs. This will feature more in Week 2, and then we will return to Agentic AI in a big way in Week 8 when we build a fully autonomous Agent solution.\n",
    "\n",
    "Generating content in this way is one of the very most common Use Cases. As with summarization, this can be applied to any business vertical. Write marketing content, generate a product tutorial from a spec, create personalized email content, and so much more. Explore how you can apply content generation to your business, and try making yourself a proof-of-concept prototype.</span>\n",
    "        </td>\n",
    "    </tr>\n",
    "</table>"
   ]
  },
  {
   "cell_type": "markdown",
   "id": "14b2454b-8ef8-4b5c-b928-053a15e0d553",
   "metadata": {},
   "source": [
    "<table style=\"margin: 0; text-align: left;\">\n",
    "    <tr>\n",
    "        <td style=\"width: 150px; height: 150px; vertical-align: middle;\">\n",
    "            <img src=\"../important.jpg\" width=\"150\" height=\"150\" style=\"display: block;\" />\n",
    "        </td>\n",
    "        <td>\n",
    "            <h2 style=\"color:#900;\">Before you move to Week 2 (which is tons of fun)</h2>\n",
    "            <span style=\"color:#900;\">Please see the week1 EXERCISE notebook for your challenge for the end of week 1. This will give you some essential practice working with Frontier APIs, and prepare you well for Week 2.</span>\n",
    "        </td>\n",
    "    </tr>\n",
    "</table>"
   ]
  },
  {
   "cell_type": "markdown",
   "id": "17b64f0f-7d33-4493-985a-033d06e8db08",
   "metadata": {},
   "source": [
    "<table style=\"margin: 0; text-align: left;\">\n",
    "    <tr>\n",
    "        <td style=\"width: 150px; height: 150px; vertical-align: middle;\">\n",
    "            <img src=\"../resources.jpg\" width=\"150\" height=\"150\" style=\"display: block;\" />\n",
    "        </td>\n",
    "        <td>\n",
    "            <h2 style=\"color:#f71;\">A reminder on 2 useful resources</h2>\n",
    "            <span style=\"color:#f71;\">1. The resources for the course are available <a href=\"https://edwarddonner.com/2024/11/13/llm-engineering-resources/\">here.</a><br/>\n",
    "            2. I'm on LinkedIn <a href=\"https://www.linkedin.com/in/eddonner/\">here</a> and I love connecting with people taking the course!\n",
    "            </span>\n",
    "        </td>\n",
    "    </tr>\n",
    "</table>"
   ]
  },
  {
   "cell_type": "code",
   "execution_count": null,
   "id": "3de35771-455f-40b5-ba44-7c0a6b7c427a",
   "metadata": {},
   "outputs": [],
   "source": []
  }
 ],
 "metadata": {
  "kernelspec": {
   "display_name": "Python 3 (ipykernel)",
   "language": "python",
   "name": "python3"
  },
  "language_info": {
   "codemirror_mode": {
    "name": "ipython",
    "version": 3
   },
   "file_extension": ".py",
   "mimetype": "text/x-python",
   "name": "python",
   "nbconvert_exporter": "python",
   "pygments_lexer": "ipython3",
   "version": "3.11.10"
  }
 },
 "nbformat": 4,
 "nbformat_minor": 5
}
