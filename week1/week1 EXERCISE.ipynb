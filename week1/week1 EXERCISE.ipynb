{
 "cells": [
  {
   "cell_type": "markdown",
   "id": "fe12c203-e6a6-452c-a655-afb8a03a4ff5",
   "metadata": {},
   "source": [
    "# End of week 1 exercise\n",
    "\n",
    "To demonstrate your familiarity with OpenAI API, and also Ollama, build a tool that takes a technical question,  \n",
    "and responds with an explanation. This is a tool that you will be able to use yourself during the course!"
   ]
  },
  {
   "cell_type": "code",
   "execution_count": 1,
   "id": "c1070317-3ed9-4659-abe3-828943230e03",
   "metadata": {},
   "outputs": [],
   "source": [
    "# imports\n",
    "\n",
    "import ollama\n",
    "import os\n",
    "from dotenv import load_dotenv\n",
    "from IPython.display import Markdown, display, update_display\n",
    "from openai import OpenAI"
   ]
  },
  {
   "cell_type": "code",
   "execution_count": 2,
   "id": "4a456906-915a-4bfd-bb9d-57e505c5093f",
   "metadata": {},
   "outputs": [],
   "source": [
    "# constants\n",
    "\n",
    "MODEL_GPT = 'gpt-4o-mini'\n",
    "MODEL_LLAMA = 'llama3.2'"
   ]
  },
  {
   "cell_type": "code",
   "execution_count": 3,
   "id": "a8d7923c-5f28-4c30-8556-342d7c8497c1",
   "metadata": {},
   "outputs": [
    {
     "name": "stdout",
     "output_type": "stream",
     "text": [
      "API key looks good so far\n"
     ]
    }
   ],
   "source": [
    "# set up environment\n",
    "\n",
    "# Retrieve the 'OPENAI_API_KEY' value from the environment variables\n",
    "load_dotenv()\n",
    "api_key = os.getenv(\"OPENAI_API_KEY\")\n",
    "\n",
    "# Check if the API key is valid by looking for specific patterns\n",
    "if api_key and api_key.startswith(\"sk-proj-\") and len(api_key) > 10:\n",
    "    print(\"API key looks good so far\")\n",
    "else:\n",
    "    print(\n",
    "        \"There might be a problem with your API key? Please visit the troubleshooting notebook!\"\n",
    "    )\n",
    "\n",
    "# Create an instance of OpenAI to interact with the OpenAI API\n",
    "openai = OpenAI()"
   ]
  },
  {
   "cell_type": "code",
   "execution_count": 4,
   "id": "3f0d0137-52b0-47a8-81a8-11a90a010798",
   "metadata": {},
   "outputs": [
    {
     "name": "stdin",
     "output_type": "stream",
     "text": [
      "Please, enter your question here:\n",
      " Please explain what this code does and why: yield from {book.get(\"author\") for book in books if book.get(\"author\")}\n"
     ]
    }
   ],
   "source": [
    "# here is the question; type over this to ask something new\n",
    "\n",
    "question = input(\"Please, enter your question here:\\n\")\n",
    "\n",
    "# Example question:\n",
    "# Please explain what this code does and why: yield from {book.get(\"author\") for book in books if book.get(\"author\")}"
   ]
  },
  {
   "cell_type": "code",
   "execution_count": 5,
   "id": "4d69b1a5-3852-4a13-9e4b-cbda53ffa9dc",
   "metadata": {},
   "outputs": [],
   "source": [
    "tutor_system_prompt = \"\"\"Role and Purpose: You are a tutor for the \"Large Language Model Engineering\" \n",
    "course by Ed Donner. Your role is to provide structured, clear, and patient explanations, helping \n",
    "learners understand concepts and apply them effectively.\n",
    "\n",
    "\n",
    "Start with context, progressing from basic overviews to detailed insights.\n",
    "Use concise language, real-world examples, and analogies to simplify complex ideas.\n",
    "Summarize key points, invite further questions and suggest further resources for exploration.\n",
    "\n",
    "\n",
    "Tone:\n",
    "Maintain professionalism, avoid assumptions about learners' backgrounds, and focus strictly\n",
    "on course-relevant content. Use examples and citations aligned with the course material.\n",
    "\"\"\"\n",
    "\n",
    "user_prompt = \"Please give a detailed explanation to the following question: \" + question"
   ]
  },
  {
   "cell_type": "code",
   "execution_count": 6,
   "id": "611def93-68ca-419f-84be-bb312e8973e9",
   "metadata": {},
   "outputs": [],
   "source": [
    "tutor_messages = [\n",
    "        {\"role\": \"system\", \"content\": tutor_system_prompt},\n",
    "        {\"role\": \"user\", \"content\": user_prompt}\n",
    "]"
   ]
  },
  {
   "cell_type": "code",
   "execution_count": 7,
   "id": "60ce7000-a4a5-4cce-a261-e75ef45063b4",
   "metadata": {},
   "outputs": [],
   "source": [
    "# Get gpt-4o-mini to answer, with streaming\n",
    "\n",
    "def display_explanation():\n",
    "    stream = openai.chat.completions.create(\n",
    "        model=MODEL_GPT,\n",
    "        messages=tutor_messages,\n",
    "        stream=True,\n",
    "    )\n",
    "\n",
    "    explanation = \"\"\n",
    "    display_handle = display(Markdown(\"\"), display_id=True)\n",
    "\n",
    "    for chunk in stream:\n",
    "       \n",
    "        explanation += chunk.choices[0].delta.content or \"\"\n",
    "        explanation = explanation.replace(\"```\", \"\").replace(\"markdown\", \"\")\n",
    "        update_display(Markdown(explanation), display_id=display_handle.display_id)"
   ]
  },
  {
   "cell_type": "code",
   "execution_count": 8,
   "id": "1b70b7f3-c5a3-4cc1-b4a2-dab847a8d82e",
   "metadata": {},
   "outputs": [
    {
     "data": {
      "text/markdown": [
       "Certainly! Let's break down the code snippet you've provided: \n",
       "\n",
       "python\n",
       "yield from {book.get(\"author\") for book in books if book.get(\"author\")}\n",
       "\n",
       "\n",
       "### Context and Overview\n",
       "\n",
       "In Python, the `yield from` statement is used within a generator function to yield all values from an iterable (like a list, set, or a generator) one by one. The expression `{book.get(\"author\") for book in books if book.get(\"author\")}` is a set comprehension that creates a set of authors from the list of books, `books`, filtering out any entries that do not have an author.\n",
       "\n",
       "### Detailed Breakdown\n",
       "\n",
       "1. **`{book.get(\"author\") for book in books if book.get(\"author\")}`**:\n",
       "   - This is a **set comprehension**, a concise way to create a set.\n",
       "   - The expression iterates over each `book` in the iterable `books`.\n",
       "   - `book.get(\"author\")` attempts to retrieve the value associated with the key `\"author\"` from `book`.\n",
       "   - The `if book.get(\"author\")` condition filters out the books where the author is `None` or does not exist (i.e., books without an author).\n",
       "   - The result is a set containing all unique author names from the `books` list.\n",
       "\n",
       "2. **`yield from`**:\n",
       "   - The `yield from` expression is a generator feature that allows you to delegate part of the generator’s operations to another generator. It simplifies yielding multiple values.\n",
       "   - Thus, `yield from` will yield each author from the set of authors generated above.\n",
       "\n",
       "### Why This Code Is Useful\n",
       "\n",
       "- **Eliminating Duplicates**: Using a set comprehension ensures that even if multiple books are authored by the same person, that author's name will only appear once in the final output.\n",
       "- **Memory Efficiency**: Since sets are constructed in memory, it deals efficiently with the uniqueness and further processing of authors.\n",
       "- **Clean and Concise**: This one-liner allows you to gather authors succinctly and effectively without needing temporary lists or verbose loops.\n",
       "\n",
       "### Example\n",
       "\n",
       "Imagine you have the following list of books:\n",
       "\n",
       "python\n",
       "books = [\n",
       "    {\"title\": \"Book One\", \"author\": \"Author A\"},\n",
       "    {\"title\": \"Book Two\", \"author\": \"Author B\"},\n",
       "    {\"title\": \"Book Three\", \"author\": \"Author A\"},\n",
       "    {\"title\": \"Book Four\"},\n",
       "    {\"title\": \"Book Five\", \"author\": \"Author C\"},\n",
       "]\n",
       "\n",
       "\n",
       "If you execute the provided code snippet with this list, it would extract unique authors:\n",
       "\n",
       "1. It would yield \"Author A\", \"Author B\", and \"Author C\", skipping the book without an author.\n",
       "\n",
       "### Conclusion\n",
       "\n",
       "To summarize:\n",
       "- The code extracts unique authors from a list of books using set comprehension.\n",
       "- `yield from` efficiently yields each unique author one by one.\n",
       "- It provides a compact way to both filter and collect necessary data, which is a common task in programming.\n",
       "\n",
       "### Further Questions and Resources\n",
       "\n",
       "If you have any questions about how set comprehensions work, generators, or if you want to see more examples relating to this topic, feel free to ask! For further exploration, you might consider looking into:\n",
       "- Python's official documentation about [Generators](https://docs.python.org/3/tutorial/classes.html#generators).\n",
       "- Understanding [Comprehensions](https://docs.python.org/3/tutorial/datastructures.html#list-comprehensions) in Python for additional contexts beyond sets."
      ],
      "text/plain": [
       "<IPython.core.display.Markdown object>"
      ]
     },
     "metadata": {},
     "output_type": "display_data"
    }
   ],
   "source": [
    "display_explanation()"
   ]
  },
  {
   "cell_type": "code",
   "execution_count": 9,
   "id": "8f7c8ea8-4082-4ad0-8751-3301adcf6538",
   "metadata": {},
   "outputs": [],
   "source": [
    "# Get Llama 3.2 to answer\n",
    "\n",
    "def explain():\n",
    "    response = ollama.chat(model=MODEL_LLAMA, messages=tutor_messages)\n",
    "    return response['message']['content']\n",
    "\n",
    "def display_explanation():\n",
    "    explanation = explain()\n",
    "    display(Markdown(explanation))"
   ]
  },
  {
   "cell_type": "code",
   "execution_count": 10,
   "id": "01cb0050-1599-47b6-be88-35d4d8af5ef5",
   "metadata": {},
   "outputs": [
    {
     "data": {
      "text/markdown": [
       "Let's break down this code step by step.\n",
       "\n",
       "**Overview**\n",
       "\n",
       "This code is written in Python and uses a feature called \"yield from\" (introduced in Python 3.3). The main goal of this code is to iterate over the authors of books in a list, without loading the entire list into memory at once.\n",
       "\n",
       "**Let's examine each part:**\n",
       "\n",
       "1. `yield from {book.get(\"author\") for book in books if book.get(\"author\")}`\n",
       "\n",
       "   This expression consists of three parts:\n",
       "\n",
       "    *   `{book.get(\"author\") for book in books if book.get(\"author\")}`: This is a generator expression, similar to a list comprehension but it generates values on-the-fly rather than storing them all at once. It iterates over the `books` list, and only includes books where the author key exists.\n",
       "    *   `yield from`: This keyword indicates that this function should yield control back to the caller for each item produced by the inner generator expression (in this case, book authors).\n",
       "    *   `{...}`: This is an empty dictionary literal. However, in Python 3.5 and later versions, dictionaries can be used as a container for generators expressions.\n",
       "\n",
       "**How it works**\n",
       "\n",
       "Here's how we break down the process:\n",
       "\n",
       "1.  The inner generator expression `book.get(\"author\") for book in books if book.get(\"author\")` generates authors from each book.\n",
       "2.  It skips books where the author key does not exist (i.e., for which the condition `if book.get(\"author\")` is False).\n",
       "3.  Since it's using a generator expression, this code doesn't create an entire list of authors before proceeding. Instead, it generates them one by one as needed.\n",
       "4.  The outer function uses `yield from` to delegate to each item produced by the inner generator expression.\n",
       "\n",
       "**Key Benefits**\n",
       "\n",
       "By using this technique:\n",
       "\n",
       "*   Memory usage is minimized because we don't need to store all the book authors at once in memory.\n",
       "*   Iterating over a large dataset that you can't fit into memory (like an entire library of books with many authors) becomes more feasible.\n",
       "\n",
       "Here's a simple example where this code will be useful:\n",
       "```python\n",
       "books = [\n",
       "    {\"title\": \"Book 1\", \"author\": \"Author A\"},\n",
       "    {\"title\": \"Book 2\", \"author\": \"Author B\"},\n",
       "    # Ignore book with missing author key.\n",
       "    {\"title\": \"Book 3\"},\n",
       "]\n",
       "\n",
       "for author in yield_from({book.get(\"author\") for book in books if book.get(\"author\")}):\n",
       "    print(author)\n",
       "```\n",
       "When you run this, it will print the authors of the books without loading all of them into memory at once.\n",
       "\n",
       "**Summary**\n",
       "\n",
       "This code is used to generate book authors from a list of books while minimizing memory usage. It's particularly useful for handling large datasets that can't be loaded entirely into memory."
      ],
      "text/plain": [
       "<IPython.core.display.Markdown object>"
      ]
     },
     "metadata": {},
     "output_type": "display_data"
    }
   ],
   "source": [
    "display_explanation()"
   ]
  },
  {
   "cell_type": "code",
   "execution_count": null,
   "id": "52f25450-973c-41c3-ab58-f099ed36671d",
   "metadata": {},
   "outputs": [],
   "source": []
  }
 ],
 "metadata": {
  "kernelspec": {
   "display_name": "Python 3 (ipykernel)",
   "language": "python",
   "name": "python3"
  },
  "language_info": {
   "codemirror_mode": {
    "name": "ipython",
    "version": 3
   },
   "file_extension": ".py",
   "mimetype": "text/x-python",
   "name": "python",
   "nbconvert_exporter": "python",
   "pygments_lexer": "ipython3",
   "version": "3.11.10"
  }
 },
 "nbformat": 4,
 "nbformat_minor": 5
}
