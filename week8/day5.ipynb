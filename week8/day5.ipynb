{
 "cells": [
  {
   "cell_type": "markdown",
   "id": "a71ed017-e1b0-4299-88b3-f0eb05adc4df",
   "metadata": {},
   "source": [
    "# The Price is Right\n",
    "\n",
    "The final step is to build a User Interface\n",
    "\n",
    "We will use more advanced aspects of Gradio - building piece by piece."
   ]
  },
  {
   "cell_type": "code",
   "execution_count": 1,
   "id": "614c6202-4575-448d-98ee-78b735775d2b",
   "metadata": {},
   "outputs": [],
   "source": [
    "import gradio as gr\n",
    "from deal_agent_framework import DealAgentFramework\n",
    "from agents.deals import Opportunity, Deal"
   ]
  },
  {
   "cell_type": "code",
   "execution_count": 2,
   "id": "0534e714-5a9c-45c6-998c-3472ac0bb8b5",
   "metadata": {},
   "outputs": [
    {
     "name": "stdout",
     "output_type": "stream",
     "text": [
      "* Running on local URL:  http://127.0.0.1:7860\n",
      "\n",
      "To create a public link, set `share=True` in `launch()`.\n"
     ]
    },
    {
     "data": {
      "text/html": [
       "<div><iframe src=\"http://127.0.0.1:7860/\" width=\"100%\" height=\"500\" allow=\"autoplay; camera; microphone; clipboard-read; clipboard-write;\" frameborder=\"0\" allowfullscreen></iframe></div>"
      ],
      "text/plain": [
       "<IPython.core.display.HTML object>"
      ]
     },
     "metadata": {},
     "output_type": "display_data"
    },
    {
     "data": {
      "text/plain": []
     },
     "execution_count": 2,
     "metadata": {},
     "output_type": "execute_result"
    }
   ],
   "source": [
    "with gr.Blocks(title=\"The Price is Right\", fill_width=True) as ui:\n",
    "\n",
    "    with gr.Row():\n",
    "        gr.Markdown('<div style=\"text-align: center;font-size:24px\">The Price is Right - Deal Hunting Agentic AI</div>')\n",
    "    with gr.Row():\n",
    "        gr.Markdown('<div style=\"text-align: center;font-size:14px\">Autonomous agent framework that finds online deals, collaborating with a proprietary fine-tuned LLM deployed on Modal, and a RAG pipeline with a frontier model and Chroma.</div>')\n",
    "        \n",
    "\n",
    "ui.launch(inbrowser=True)"
   ]
  },
  {
   "cell_type": "code",
   "execution_count": 3,
   "id": "18c12c10-750c-4da3-8df5-f2bc3393f9e0",
   "metadata": {},
   "outputs": [
    {
     "name": "stdout",
     "output_type": "stream",
     "text": [
      "* Running on local URL:  http://127.0.0.1:7861\n",
      "\n",
      "To create a public link, set `share=True` in `launch()`.\n"
     ]
    },
    {
     "data": {
      "text/html": [
       "<div><iframe src=\"http://127.0.0.1:7861/\" width=\"100%\" height=\"500\" allow=\"autoplay; camera; microphone; clipboard-read; clipboard-write;\" frameborder=\"0\" allowfullscreen></iframe></div>"
      ],
      "text/plain": [
       "<IPython.core.display.HTML object>"
      ]
     },
     "metadata": {},
     "output_type": "display_data"
    },
    {
     "data": {
      "text/plain": []
     },
     "execution_count": 3,
     "metadata": {},
     "output_type": "execute_result"
    },
    {
     "name": "stdout",
     "output_type": "stream",
     "text": [
      "[2024-12-20 16:50:55 +0100] [Agents] [INFO] HTTP Request: GET https://api.gradio.app/pkg-version \"HTTP/1.1 200 OK\"\n"
     ]
    }
   ],
   "source": [
    "# Updated to change from height to max_height due to change in Gradio v5\n",
    "# With much thanks to student Ed B. for raising this\n",
    "\n",
    "with gr.Blocks(title=\"The Price is Right\", fill_width=True) as ui:\n",
    "\n",
    "    initial_deal = Deal(product_description=\"Example description\", price=100.0, url=\"https://cnn.com\")\n",
    "    initial_opportunity = Opportunity(deal=initial_deal, estimate=200.0, discount=100.0)\n",
    "    opportunities = gr.State([initial_opportunity])\n",
    "\n",
    "    def get_table(opps):\n",
    "        return [[opp.deal.product_description, opp.deal.price, opp.estimate, opp.discount, opp.deal.url] for opp in opps]\n",
    "\n",
    "    with gr.Row():\n",
    "        gr.Markdown('<div style=\"text-align: center;font-size:24px\">\"The Price is Right\" - Deal Hunting Agentic AI</div>')\n",
    "    with gr.Row():\n",
    "        gr.Markdown('<div style=\"text-align: center;font-size:14px\">Deals surfaced so far:</div>')\n",
    "    with gr.Row():\n",
    "        opportunities_dataframe = gr.Dataframe(\n",
    "            headers=[\"Description\", \"Price\", \"Estimate\", \"Discount\", \"URL\"],\n",
    "            wrap=True,\n",
    "            column_widths=[4, 1, 1, 1, 2],\n",
    "            row_count=10,\n",
    "            col_count=5,\n",
    "            max_height=400,\n",
    "        )\n",
    "\n",
    "    ui.load(get_table, inputs=[opportunities], outputs=[opportunities_dataframe])\n",
    "\n",
    "ui.launch(inbrowser=True)"
   ]
  },
  {
   "cell_type": "code",
   "execution_count": 4,
   "id": "87106328-a17a-447e-90b9-c547613468da",
   "metadata": {},
   "outputs": [
    {
     "name": "stdout",
     "output_type": "stream",
     "text": [
      "[2024-12-20 16:50:55 +0100] [Agents] [INFO] Anonymized telemetry enabled. See                     https://docs.trychroma.com/telemetry for more information.\n",
      "* Running on local URL:  http://127.0.0.1:7862\n",
      "[2024-12-20 16:50:55 +0100] [Agents] [INFO] HTTP Request: GET http://127.0.0.1:7862/gradio_api/startup-events \"HTTP/1.1 200 OK\"\n",
      "[2024-12-20 16:50:55 +0100] [Agents] [INFO] HTTP Request: HEAD http://127.0.0.1:7862/ \"HTTP/1.1 200 OK\"\n",
      "\n",
      "To create a public link, set `share=True` in `launch()`.\n"
     ]
    },
    {
     "data": {
      "text/html": [
       "<div><iframe src=\"http://127.0.0.1:7862/\" width=\"100%\" height=\"500\" allow=\"autoplay; camera; microphone; clipboard-read; clipboard-write;\" frameborder=\"0\" allowfullscreen></iframe></div>"
      ],
      "text/plain": [
       "<IPython.core.display.HTML object>"
      ]
     },
     "metadata": {},
     "output_type": "display_data"
    },
    {
     "data": {
      "text/plain": []
     },
     "execution_count": 4,
     "metadata": {},
     "output_type": "execute_result"
    },
    {
     "name": "stdout",
     "output_type": "stream",
     "text": [
      "[2024-12-20 16:50:56 +0100] [Agents] [INFO] HTTP Request: GET https://api.gradio.app/pkg-version \"HTTP/1.1 200 OK\"\n"
     ]
    }
   ],
   "source": [
    "agent_framework = DealAgentFramework()\n",
    "\n",
    "with gr.Blocks(title=\"The Price is Right\", fill_width=True) as ui:\n",
    "\n",
    "    initial_deal = Deal(product_description=\"Example description\", price=100.0, url=\"https://cnn.com\")\n",
    "    initial_opportunity = Opportunity(deal=initial_deal, estimate=200.0, discount=100.0)\n",
    "    opportunities = gr.State([initial_opportunity])\n",
    "\n",
    "    def get_table(opps):\n",
    "        return [[opp.deal.product_description, opp.deal.price, opp.estimate, opp.discount, opp.deal.url] for opp in opps]\n",
    "\n",
    "    def do_select(opportunities, selected_index: gr.SelectData):\n",
    "        row = selected_index.index[0]\n",
    "        opportunity = opportunities[row]\n",
    "        agent_framework.planner.messenger.alert(opportunity)\n",
    "\n",
    "    with gr.Row():\n",
    "        gr.Markdown('<div style=\"text-align: center;font-size:24px\">\"The Price is Right\" - Deal Hunting Agentic AI</div>')\n",
    "    with gr.Row():\n",
    "        gr.Markdown('<div style=\"text-align: center;font-size:14px\">Deals surfaced so far:</div>')\n",
    "    with gr.Row():\n",
    "        opportunities_dataframe = gr.Dataframe(\n",
    "            headers=[\"Description\", \"Price\", \"Estimate\", \"Discount\", \"URL\"],\n",
    "            wrap=True,\n",
    "            column_widths=[4, 1, 1, 1, 2],\n",
    "            row_count=10,\n",
    "            col_count=5,\n",
    "            max_height=400,\n",
    "        )\n",
    "\n",
    "    ui.load(get_table, inputs=[opportunities], outputs=[opportunities_dataframe])\n",
    "    opportunities_dataframe.select(do_select, inputs=[opportunities], outputs=[])\n",
    "\n",
    "ui.launch(inbrowser=True)"
   ]
  },
  {
   "cell_type": "markdown",
   "id": "ecfed67b-ebcb-4e17-ad15-a7151f940119",
   "metadata": {},
   "source": [
    "# Time for the code\n",
    "\n",
    "And now we'll move to the price_is_right.py code, followed by price_is_right_final.py"
   ]
  },
  {
   "cell_type": "markdown",
   "id": "d783af8a-08a8-4e59-886a-7ca32f16bcf5",
   "metadata": {},
   "source": [
    "# Running the final product\n",
    "\n",
    "## Just hit shift + enter in the next cell, and let the deals flow in!!"
   ]
  },
  {
   "cell_type": "code",
   "execution_count": null,
   "id": "48506465-1c7a-433f-a665-b277a8b4665c",
   "metadata": {},
   "outputs": [
    {
     "name": "stdout",
     "output_type": "stream",
     "text": [
      "* Running on local URL:  http://127.0.0.1:7863\n",
      "\n",
      "To create a public link, set `share=True` in `launch()`.\n",
      "[2024-12-20 16:51:06 +0100] [Agents] [INFO] \u001b[44m\u001b[37m[Agent Framework] Initializing Agent Framework\u001b[0m\n",
      "[2024-12-20 16:51:06 +0100] [Agents] [INFO] \u001b[44m\u001b[37m[Agent Framework] Initializing Agent Framework\u001b[0m\n",
      "[2024-12-20 16:51:06 +0100] [Agents] [INFO] \u001b[40m\u001b[32m[Planning Agent] Planning Agent is initializing\u001b[0m\n",
      "[2024-12-20 16:51:06 +0100] [Agents] [INFO] \u001b[40m\u001b[32m[Planning Agent] Planning Agent is initializing\u001b[0m\n",
      "[2024-12-20 16:51:06 +0100] [Agents] [INFO] \u001b[40m\u001b[36m[Scanner Agent] Scanner Agent is initializing\u001b[0m\n",
      "[2024-12-20 16:51:06 +0100] [Agents] [INFO] \u001b[40m\u001b[36m[Scanner Agent] Scanner Agent is initializing\u001b[0m\n",
      "[2024-12-20 16:51:06 +0100] [Agents] [INFO] \u001b[40m\u001b[36m[Scanner Agent] Scanner Agent is ready\u001b[0m\n",
      "[2024-12-20 16:51:06 +0100] [Agents] [INFO] \u001b[40m\u001b[36m[Scanner Agent] Scanner Agent is ready\u001b[0m\n",
      "[2024-12-20 16:51:06 +0100] [Agents] [INFO] \u001b[40m\u001b[33m[Ensemble Agent] Initializing Ensemble Agent\u001b[0m\n",
      "[2024-12-20 16:51:06 +0100] [Agents] [INFO] \u001b[40m\u001b[33m[Ensemble Agent] Initializing Ensemble Agent\u001b[0m\n",
      "[2024-12-20 16:51:06 +0100] [Agents] [INFO] \u001b[40m\u001b[31m[Specialist Agent] Specialist Agent is initializing - connecting to modal\u001b[0m\n",
      "[2024-12-20 16:51:06 +0100] [Agents] [INFO] \u001b[40m\u001b[31m[Specialist Agent] Specialist Agent is initializing - connecting to modal\u001b[0m\n",
      "[2024-12-20 16:51:06 +0100] [Agents] [INFO] \u001b[40m\u001b[31m[Specialist Agent] Specialist Agent is ready\u001b[0m\n",
      "[2024-12-20 16:51:06 +0100] [Agents] [INFO] \u001b[40m\u001b[31m[Specialist Agent] Specialist Agent is ready\u001b[0m\n",
      "[2024-12-20 16:51:06 +0100] [Agents] [INFO] \u001b[40m\u001b[34m[Frontier Agent] Initializing Frontier Agent\u001b[0m\n",
      "[2024-12-20 16:51:06 +0100] [Agents] [INFO] \u001b[40m\u001b[34m[Frontier Agent] Initializing Frontier Agent\u001b[0m\n",
      "[2024-12-20 16:51:07 +0100] [Agents] [INFO] Use pytorch device_name: mps\n",
      "[2024-12-20 16:51:07 +0100] [Agents] [INFO] Use pytorch device_name: mps\n",
      "[2024-12-20 16:51:07 +0100] [Agents] [INFO] Load pretrained SentenceTransformer: sentence-transformers/all-MiniLM-L6-v2\n",
      "[2024-12-20 16:51:07 +0100] [Agents] [INFO] Load pretrained SentenceTransformer: sentence-transformers/all-MiniLM-L6-v2\n",
      "[2024-12-20 16:51:08 +0100] [Agents] [INFO] \u001b[40m\u001b[34m[Frontier Agent] Frontier Agent is ready\u001b[0m\n",
      "[2024-12-20 16:51:08 +0100] [Agents] [INFO] \u001b[40m\u001b[34m[Frontier Agent] Frontier Agent is ready\u001b[0m\n",
      "[2024-12-20 16:51:08 +0100] [Agents] [INFO] \u001b[40m\u001b[35m[Random Forest Agent] Random Forest Agent is initializing\u001b[0m\n",
      "[2024-12-20 16:51:08 +0100] [Agents] [INFO] \u001b[40m\u001b[35m[Random Forest Agent] Random Forest Agent is initializing\u001b[0m\n",
      "[2024-12-20 16:51:08 +0100] [Agents] [INFO] Use pytorch device_name: mps\n",
      "[2024-12-20 16:51:08 +0100] [Agents] [INFO] Use pytorch device_name: mps\n",
      "[2024-12-20 16:51:08 +0100] [Agents] [INFO] Load pretrained SentenceTransformer: sentence-transformers/all-MiniLM-L6-v2\n",
      "[2024-12-20 16:51:08 +0100] [Agents] [INFO] Load pretrained SentenceTransformer: sentence-transformers/all-MiniLM-L6-v2\n",
      "[2024-12-20 16:51:13 +0100] [Agents] [INFO] \u001b[40m\u001b[35m[Random Forest Agent] Random Forest Agent is ready\u001b[0m\n",
      "[2024-12-20 16:51:13 +0100] [Agents] [INFO] \u001b[40m\u001b[35m[Random Forest Agent] Random Forest Agent is ready\u001b[0m\n",
      "[2024-12-20 16:51:13 +0100] [Agents] [INFO] \u001b[40m\u001b[33m[Ensemble Agent] Ensemble Agent is ready\u001b[0m\n",
      "[2024-12-20 16:51:13 +0100] [Agents] [INFO] \u001b[40m\u001b[33m[Ensemble Agent] Ensemble Agent is ready\u001b[0m\n",
      "[2024-12-20 16:51:13 +0100] [Agents] [INFO] \u001b[40m\u001b[37m[Messaging Agent] Messaging Agent is initializing\u001b[0m\n",
      "[2024-12-20 16:51:13 +0100] [Agents] [INFO] \u001b[40m\u001b[37m[Messaging Agent] Messaging Agent is initializing\u001b[0m\n",
      "[2024-12-20 16:51:13 +0100] [Agents] [INFO] \u001b[40m\u001b[37m[Messaging Agent] Messaging Agent has initialized Pushover\u001b[0m\n",
      "[2024-12-20 16:51:13 +0100] [Agents] [INFO] \u001b[40m\u001b[37m[Messaging Agent] Messaging Agent has initialized Pushover\u001b[0m\n",
      "[2024-12-20 16:51:13 +0100] [Agents] [INFO] \u001b[40m\u001b[32m[Planning Agent] Planning Agent is ready\u001b[0m\n",
      "[2024-12-20 16:51:13 +0100] [Agents] [INFO] \u001b[40m\u001b[32m[Planning Agent] Planning Agent is ready\u001b[0m\n",
      "[2024-12-20 16:51:13 +0100] [Agents] [INFO] \u001b[44m\u001b[37m[Agent Framework] Agent Framework is ready\u001b[0m\n",
      "[2024-12-20 16:51:13 +0100] [Agents] [INFO] \u001b[44m\u001b[37m[Agent Framework] Agent Framework is ready\u001b[0m\n",
      "[2024-12-20 16:51:13 +0100] [Agents] [INFO] Kicking off Planning Agent\n",
      "[2024-12-20 16:51:13 +0100] [Agents] [INFO] Kicking off Planning Agent\n",
      "[2024-12-20 16:51:13 +0100] [Agents] [INFO] \u001b[40m\u001b[32m[Planning Agent] Planning Agent is kicking off a run\u001b[0m\n",
      "[2024-12-20 16:51:13 +0100] [Agents] [INFO] \u001b[40m\u001b[32m[Planning Agent] Planning Agent is kicking off a run\u001b[0m\n",
      "[2024-12-20 16:51:13 +0100] [Agents] [INFO] \u001b[40m\u001b[36m[Scanner Agent] Scanner Agent is about to fetch deals from RSS feed\u001b[0m\n",
      "[2024-12-20 16:51:13 +0100] [Agents] [INFO] \u001b[40m\u001b[36m[Scanner Agent] Scanner Agent is about to fetch deals from RSS feed\u001b[0m\n",
      "[2024-12-20 16:52:42 +0100] [Agents] [INFO] \u001b[40m\u001b[36m[Scanner Agent] Scanner Agent received 49 deals not already scraped\u001b[0m\n",
      "[2024-12-20 16:52:42 +0100] [Agents] [INFO] \u001b[40m\u001b[36m[Scanner Agent] Scanner Agent received 49 deals not already scraped\u001b[0m\n",
      "[2024-12-20 16:52:42 +0100] [Agents] [INFO] \u001b[40m\u001b[36m[Scanner Agent] Scanner Agent is calling OpenAI using Structured Output\u001b[0m\n",
      "[2024-12-20 16:52:42 +0100] [Agents] [INFO] \u001b[40m\u001b[36m[Scanner Agent] Scanner Agent is calling OpenAI using Structured Output\u001b[0m\n",
      "[2024-12-20 16:52:49 +0100] [Agents] [INFO] HTTP Request: POST https://api.openai.com/v1/chat/completions \"HTTP/1.1 200 OK\"\n",
      "[2024-12-20 16:52:49 +0100] [Agents] [INFO] HTTP Request: POST https://api.openai.com/v1/chat/completions \"HTTP/1.1 200 OK\"\n",
      "[2024-12-20 16:52:49 +0100] [Agents] [INFO] \u001b[40m\u001b[36m[Scanner Agent] Scanner Agent received 5 selected deals with price>0 from OpenAI\u001b[0m\n",
      "[2024-12-20 16:52:49 +0100] [Agents] [INFO] \u001b[40m\u001b[36m[Scanner Agent] Scanner Agent received 5 selected deals with price>0 from OpenAI\u001b[0m\n",
      "[2024-12-20 16:52:49 +0100] [Agents] [INFO] \u001b[40m\u001b[32m[Planning Agent] Planning Agent is pricing up a potential deal\u001b[0m\n",
      "[2024-12-20 16:52:49 +0100] [Agents] [INFO] \u001b[40m\u001b[32m[Planning Agent] Planning Agent is pricing up a potential deal\u001b[0m\n",
      "[2024-12-20 16:52:49 +0100] [Agents] [INFO] \u001b[40m\u001b[33m[Ensemble Agent] Running Ensemble Agent - collaborating with specialist, frontier and random forest agents\u001b[0m\n",
      "[2024-12-20 16:52:49 +0100] [Agents] [INFO] \u001b[40m\u001b[33m[Ensemble Agent] Running Ensemble Agent - collaborating with specialist, frontier and random forest agents\u001b[0m\n",
      "[2024-12-20 16:52:49 +0100] [Agents] [INFO] \u001b[40m\u001b[31m[Specialist Agent] Specialist Agent is calling remote fine-tuned model\u001b[0m\n",
      "[2024-12-20 16:52:49 +0100] [Agents] [INFO] \u001b[40m\u001b[31m[Specialist Agent] Specialist Agent is calling remote fine-tuned model\u001b[0m\n",
      "[2024-12-20 16:53:22 +0100] [Agents] [INFO] \u001b[40m\u001b[31m[Specialist Agent] Specialist Agent completed - predicting $25.00\u001b[0m\n",
      "[2024-12-20 16:53:22 +0100] [Agents] [INFO] \u001b[40m\u001b[31m[Specialist Agent] Specialist Agent completed - predicting $25.00\u001b[0m\n",
      "[2024-12-20 16:53:22 +0100] [Agents] [INFO] \u001b[40m\u001b[34m[Frontier Agent] Frontier Agent is performing a RAG search of the Chroma datastore to find 5 similar products\u001b[0m\n",
      "[2024-12-20 16:53:22 +0100] [Agents] [INFO] \u001b[40m\u001b[34m[Frontier Agent] Frontier Agent is performing a RAG search of the Chroma datastore to find 5 similar products\u001b[0m\n",
      "Batches: 100%|████████████████████████████████████| 1/1 [00:00<00:00,  2.35it/s]\n",
      "[2024-12-20 16:53:23 +0100] [Agents] [INFO] \u001b[40m\u001b[34m[Frontier Agent] Frontier Agent has found similar products\u001b[0m\n",
      "[2024-12-20 16:53:23 +0100] [Agents] [INFO] \u001b[40m\u001b[34m[Frontier Agent] Frontier Agent has found similar products\u001b[0m\n",
      "[2024-12-20 16:53:23 +0100] [Agents] [INFO] \u001b[40m\u001b[34m[Frontier Agent] Frontier Agent is about to call OpenAI with context including 5 similar products\u001b[0m\n",
      "[2024-12-20 16:53:23 +0100] [Agents] [INFO] \u001b[40m\u001b[34m[Frontier Agent] Frontier Agent is about to call OpenAI with context including 5 similar products\u001b[0m\n",
      "[2024-12-20 16:53:23 +0100] [Agents] [INFO] HTTP Request: POST https://api.openai.com/v1/chat/completions \"HTTP/1.1 200 OK\"\n",
      "[2024-12-20 16:53:23 +0100] [Agents] [INFO] HTTP Request: POST https://api.openai.com/v1/chat/completions \"HTTP/1.1 200 OK\"\n",
      "[2024-12-20 16:53:23 +0100] [Agents] [INFO] \u001b[40m\u001b[34m[Frontier Agent] Frontier Agent completed - predicting $59.99\u001b[0m\n",
      "[2024-12-20 16:53:23 +0100] [Agents] [INFO] \u001b[40m\u001b[34m[Frontier Agent] Frontier Agent completed - predicting $59.99\u001b[0m\n",
      "[2024-12-20 16:53:23 +0100] [Agents] [INFO] \u001b[40m\u001b[35m[Random Forest Agent] Random Forest Agent is starting a prediction\u001b[0m\n",
      "[2024-12-20 16:53:23 +0100] [Agents] [INFO] \u001b[40m\u001b[35m[Random Forest Agent] Random Forest Agent is starting a prediction\u001b[0m\n",
      "Batches: 100%|████████████████████████████████████| 1/1 [00:00<00:00, 25.21it/s]\n",
      "[2024-12-20 16:53:23 +0100] [Agents] [INFO] \u001b[40m\u001b[35m[Random Forest Agent] Random Forest Agent completed - predicting $197.40\u001b[0m\n",
      "[2024-12-20 16:53:23 +0100] [Agents] [INFO] \u001b[40m\u001b[35m[Random Forest Agent] Random Forest Agent completed - predicting $197.40\u001b[0m\n",
      "[2024-12-20 16:53:23 +0100] [Agents] [INFO] \u001b[40m\u001b[33m[Ensemble Agent] Ensemble Agent complete - returning $69.47\u001b[0m\n",
      "[2024-12-20 16:53:23 +0100] [Agents] [INFO] \u001b[40m\u001b[33m[Ensemble Agent] Ensemble Agent complete - returning $69.47\u001b[0m\n",
      "[2024-12-20 16:53:23 +0100] [Agents] [INFO] \u001b[40m\u001b[32m[Planning Agent] Planning Agent has processed a deal with discount $-10.53\u001b[0m\n",
      "[2024-12-20 16:53:23 +0100] [Agents] [INFO] \u001b[40m\u001b[32m[Planning Agent] Planning Agent has processed a deal with discount $-10.53\u001b[0m\n",
      "[2024-12-20 16:53:23 +0100] [Agents] [INFO] \u001b[40m\u001b[32m[Planning Agent] Planning Agent is pricing up a potential deal\u001b[0m\n",
      "[2024-12-20 16:53:23 +0100] [Agents] [INFO] \u001b[40m\u001b[32m[Planning Agent] Planning Agent is pricing up a potential deal\u001b[0m\n",
      "[2024-12-20 16:53:23 +0100] [Agents] [INFO] \u001b[40m\u001b[33m[Ensemble Agent] Running Ensemble Agent - collaborating with specialist, frontier and random forest agents\u001b[0m\n",
      "[2024-12-20 16:53:23 +0100] [Agents] [INFO] \u001b[40m\u001b[33m[Ensemble Agent] Running Ensemble Agent - collaborating with specialist, frontier and random forest agents\u001b[0m\n",
      "[2024-12-20 16:53:23 +0100] [Agents] [INFO] \u001b[40m\u001b[31m[Specialist Agent] Specialist Agent is calling remote fine-tuned model\u001b[0m\n",
      "[2024-12-20 16:53:23 +0100] [Agents] [INFO] \u001b[40m\u001b[31m[Specialist Agent] Specialist Agent is calling remote fine-tuned model\u001b[0m\n",
      "[2024-12-20 16:53:25 +0100] [Agents] [INFO] \u001b[40m\u001b[31m[Specialist Agent] Specialist Agent completed - predicting $60.00\u001b[0m\n",
      "[2024-12-20 16:53:25 +0100] [Agents] [INFO] \u001b[40m\u001b[31m[Specialist Agent] Specialist Agent completed - predicting $60.00\u001b[0m\n",
      "[2024-12-20 16:53:25 +0100] [Agents] [INFO] \u001b[40m\u001b[34m[Frontier Agent] Frontier Agent is performing a RAG search of the Chroma datastore to find 5 similar products\u001b[0m\n",
      "[2024-12-20 16:53:25 +0100] [Agents] [INFO] \u001b[40m\u001b[34m[Frontier Agent] Frontier Agent is performing a RAG search of the Chroma datastore to find 5 similar products\u001b[0m\n",
      "Batches: 100%|████████████████████████████████████| 1/1 [00:00<00:00,  8.89it/s]\n",
      "[2024-12-20 16:53:25 +0100] [Agents] [INFO] \u001b[40m\u001b[34m[Frontier Agent] Frontier Agent has found similar products\u001b[0m\n",
      "[2024-12-20 16:53:25 +0100] [Agents] [INFO] \u001b[40m\u001b[34m[Frontier Agent] Frontier Agent has found similar products\u001b[0m\n",
      "[2024-12-20 16:53:25 +0100] [Agents] [INFO] \u001b[40m\u001b[34m[Frontier Agent] Frontier Agent is about to call OpenAI with context including 5 similar products\u001b[0m\n",
      "[2024-12-20 16:53:25 +0100] [Agents] [INFO] \u001b[40m\u001b[34m[Frontier Agent] Frontier Agent is about to call OpenAI with context including 5 similar products\u001b[0m\n",
      "[2024-12-20 16:53:26 +0100] [Agents] [INFO] HTTP Request: POST https://api.openai.com/v1/chat/completions \"HTTP/1.1 200 OK\"\n",
      "[2024-12-20 16:53:26 +0100] [Agents] [INFO] HTTP Request: POST https://api.openai.com/v1/chat/completions \"HTTP/1.1 200 OK\"\n",
      "[2024-12-20 16:53:26 +0100] [Agents] [INFO] \u001b[40m\u001b[34m[Frontier Agent] Frontier Agent completed - predicting $139.99\u001b[0m\n",
      "[2024-12-20 16:53:26 +0100] [Agents] [INFO] \u001b[40m\u001b[34m[Frontier Agent] Frontier Agent completed - predicting $139.99\u001b[0m\n",
      "[2024-12-20 16:53:26 +0100] [Agents] [INFO] \u001b[40m\u001b[35m[Random Forest Agent] Random Forest Agent is starting a prediction\u001b[0m\n",
      "[2024-12-20 16:53:26 +0100] [Agents] [INFO] \u001b[40m\u001b[35m[Random Forest Agent] Random Forest Agent is starting a prediction\u001b[0m\n",
      "Batches: 100%|████████████████████████████████████| 1/1 [00:00<00:00, 30.09it/s]\n",
      "[2024-12-20 16:53:26 +0100] [Agents] [INFO] \u001b[40m\u001b[35m[Random Forest Agent] Random Forest Agent completed - predicting $269.07\u001b[0m\n",
      "[2024-12-20 16:53:26 +0100] [Agents] [INFO] \u001b[40m\u001b[35m[Random Forest Agent] Random Forest Agent completed - predicting $269.07\u001b[0m\n",
      "[2024-12-20 16:53:26 +0100] [Agents] [INFO] \u001b[40m\u001b[33m[Ensemble Agent] Ensemble Agent complete - returning $131.14\u001b[0m\n",
      "[2024-12-20 16:53:26 +0100] [Agents] [INFO] \u001b[40m\u001b[33m[Ensemble Agent] Ensemble Agent complete - returning $131.14\u001b[0m\n",
      "[2024-12-20 16:53:26 +0100] [Agents] [INFO] \u001b[40m\u001b[32m[Planning Agent] Planning Agent has processed a deal with discount $-48.86\u001b[0m\n",
      "[2024-12-20 16:53:26 +0100] [Agents] [INFO] \u001b[40m\u001b[32m[Planning Agent] Planning Agent has processed a deal with discount $-48.86\u001b[0m\n",
      "[2024-12-20 16:53:26 +0100] [Agents] [INFO] \u001b[40m\u001b[32m[Planning Agent] Planning Agent is pricing up a potential deal\u001b[0m\n",
      "[2024-12-20 16:53:26 +0100] [Agents] [INFO] \u001b[40m\u001b[32m[Planning Agent] Planning Agent is pricing up a potential deal\u001b[0m\n",
      "[2024-12-20 16:53:26 +0100] [Agents] [INFO] \u001b[40m\u001b[33m[Ensemble Agent] Running Ensemble Agent - collaborating with specialist, frontier and random forest agents\u001b[0m\n",
      "[2024-12-20 16:53:26 +0100] [Agents] [INFO] \u001b[40m\u001b[33m[Ensemble Agent] Running Ensemble Agent - collaborating with specialist, frontier and random forest agents\u001b[0m\n",
      "[2024-12-20 16:53:26 +0100] [Agents] [INFO] \u001b[40m\u001b[31m[Specialist Agent] Specialist Agent is calling remote fine-tuned model\u001b[0m\n",
      "[2024-12-20 16:53:26 +0100] [Agents] [INFO] \u001b[40m\u001b[31m[Specialist Agent] Specialist Agent is calling remote fine-tuned model\u001b[0m\n",
      "[2024-12-20 16:53:27 +0100] [Agents] [INFO] \u001b[40m\u001b[31m[Specialist Agent] Specialist Agent completed - predicting $500.00\u001b[0m\n",
      "[2024-12-20 16:53:27 +0100] [Agents] [INFO] \u001b[40m\u001b[31m[Specialist Agent] Specialist Agent completed - predicting $500.00\u001b[0m\n",
      "[2024-12-20 16:53:27 +0100] [Agents] [INFO] \u001b[40m\u001b[34m[Frontier Agent] Frontier Agent is performing a RAG search of the Chroma datastore to find 5 similar products\u001b[0m\n",
      "[2024-12-20 16:53:27 +0100] [Agents] [INFO] \u001b[40m\u001b[34m[Frontier Agent] Frontier Agent is performing a RAG search of the Chroma datastore to find 5 similar products\u001b[0m\n",
      "Batches: 100%|████████████████████████████████████| 1/1 [00:00<00:00, 10.00it/s]\n",
      "[2024-12-20 16:53:27 +0100] [Agents] [INFO] \u001b[40m\u001b[34m[Frontier Agent] Frontier Agent has found similar products\u001b[0m\n",
      "[2024-12-20 16:53:27 +0100] [Agents] [INFO] \u001b[40m\u001b[34m[Frontier Agent] Frontier Agent has found similar products\u001b[0m\n",
      "[2024-12-20 16:53:27 +0100] [Agents] [INFO] \u001b[40m\u001b[34m[Frontier Agent] Frontier Agent is about to call OpenAI with context including 5 similar products\u001b[0m\n",
      "[2024-12-20 16:53:27 +0100] [Agents] [INFO] \u001b[40m\u001b[34m[Frontier Agent] Frontier Agent is about to call OpenAI with context including 5 similar products\u001b[0m\n",
      "[2024-12-20 16:53:28 +0100] [Agents] [INFO] HTTP Request: POST https://api.openai.com/v1/chat/completions \"HTTP/1.1 200 OK\"\n",
      "[2024-12-20 16:53:28 +0100] [Agents] [INFO] HTTP Request: POST https://api.openai.com/v1/chat/completions \"HTTP/1.1 200 OK\"\n",
      "[2024-12-20 16:53:28 +0100] [Agents] [INFO] \u001b[40m\u001b[34m[Frontier Agent] Frontier Agent completed - predicting $399.99\u001b[0m\n",
      "[2024-12-20 16:53:28 +0100] [Agents] [INFO] \u001b[40m\u001b[34m[Frontier Agent] Frontier Agent completed - predicting $399.99\u001b[0m\n",
      "[2024-12-20 16:53:28 +0100] [Agents] [INFO] \u001b[40m\u001b[35m[Random Forest Agent] Random Forest Agent is starting a prediction\u001b[0m\n",
      "[2024-12-20 16:53:28 +0100] [Agents] [INFO] \u001b[40m\u001b[35m[Random Forest Agent] Random Forest Agent is starting a prediction\u001b[0m\n",
      "Batches: 100%|████████████████████████████████████| 1/1 [00:00<00:00, 26.24it/s]\n",
      "[2024-12-20 16:53:28 +0100] [Agents] [INFO] \u001b[40m\u001b[35m[Random Forest Agent] Random Forest Agent completed - predicting $327.14\u001b[0m\n",
      "[2024-12-20 16:53:28 +0100] [Agents] [INFO] \u001b[40m\u001b[35m[Random Forest Agent] Random Forest Agent completed - predicting $327.14\u001b[0m\n",
      "[2024-12-20 16:53:28 +0100] [Agents] [INFO] \u001b[40m\u001b[33m[Ensemble Agent] Ensemble Agent complete - returning $442.97\u001b[0m\n",
      "[2024-12-20 16:53:28 +0100] [Agents] [INFO] \u001b[40m\u001b[33m[Ensemble Agent] Ensemble Agent complete - returning $442.97\u001b[0m\n",
      "[2024-12-20 16:53:28 +0100] [Agents] [INFO] \u001b[40m\u001b[32m[Planning Agent] Planning Agent has processed a deal with discount $212.97\u001b[0m\n",
      "[2024-12-20 16:53:28 +0100] [Agents] [INFO] \u001b[40m\u001b[32m[Planning Agent] Planning Agent has processed a deal with discount $212.97\u001b[0m\n",
      "[2024-12-20 16:53:28 +0100] [Agents] [INFO] \u001b[40m\u001b[32m[Planning Agent] Planning Agent is pricing up a potential deal\u001b[0m\n",
      "[2024-12-20 16:53:28 +0100] [Agents] [INFO] \u001b[40m\u001b[32m[Planning Agent] Planning Agent is pricing up a potential deal\u001b[0m\n",
      "[2024-12-20 16:53:28 +0100] [Agents] [INFO] \u001b[40m\u001b[33m[Ensemble Agent] Running Ensemble Agent - collaborating with specialist, frontier and random forest agents\u001b[0m\n",
      "[2024-12-20 16:53:28 +0100] [Agents] [INFO] \u001b[40m\u001b[33m[Ensemble Agent] Running Ensemble Agent - collaborating with specialist, frontier and random forest agents\u001b[0m\n",
      "[2024-12-20 16:53:28 +0100] [Agents] [INFO] \u001b[40m\u001b[31m[Specialist Agent] Specialist Agent is calling remote fine-tuned model\u001b[0m\n",
      "[2024-12-20 16:53:28 +0100] [Agents] [INFO] \u001b[40m\u001b[31m[Specialist Agent] Specialist Agent is calling remote fine-tuned model\u001b[0m\n",
      "[2024-12-20 16:53:29 +0100] [Agents] [INFO] \u001b[40m\u001b[31m[Specialist Agent] Specialist Agent completed - predicting $299.00\u001b[0m\n",
      "[2024-12-20 16:53:29 +0100] [Agents] [INFO] \u001b[40m\u001b[31m[Specialist Agent] Specialist Agent completed - predicting $299.00\u001b[0m\n",
      "[2024-12-20 16:53:29 +0100] [Agents] [INFO] \u001b[40m\u001b[34m[Frontier Agent] Frontier Agent is performing a RAG search of the Chroma datastore to find 5 similar products\u001b[0m\n",
      "[2024-12-20 16:53:29 +0100] [Agents] [INFO] \u001b[40m\u001b[34m[Frontier Agent] Frontier Agent is performing a RAG search of the Chroma datastore to find 5 similar products\u001b[0m\n",
      "Batches: 100%|████████████████████████████████████| 1/1 [00:00<00:00,  8.26it/s]\n",
      "[2024-12-20 16:53:30 +0100] [Agents] [INFO] \u001b[40m\u001b[34m[Frontier Agent] Frontier Agent has found similar products\u001b[0m\n",
      "[2024-12-20 16:53:30 +0100] [Agents] [INFO] \u001b[40m\u001b[34m[Frontier Agent] Frontier Agent has found similar products\u001b[0m\n",
      "[2024-12-20 16:53:30 +0100] [Agents] [INFO] \u001b[40m\u001b[34m[Frontier Agent] Frontier Agent is about to call OpenAI with context including 5 similar products\u001b[0m\n",
      "[2024-12-20 16:53:30 +0100] [Agents] [INFO] \u001b[40m\u001b[34m[Frontier Agent] Frontier Agent is about to call OpenAI with context including 5 similar products\u001b[0m\n",
      "[2024-12-20 16:53:30 +0100] [Agents] [INFO] HTTP Request: POST https://api.openai.com/v1/chat/completions \"HTTP/1.1 200 OK\"\n",
      "[2024-12-20 16:53:30 +0100] [Agents] [INFO] HTTP Request: POST https://api.openai.com/v1/chat/completions \"HTTP/1.1 200 OK\"\n",
      "[2024-12-20 16:53:30 +0100] [Agents] [INFO] \u001b[40m\u001b[34m[Frontier Agent] Frontier Agent completed - predicting $169.99\u001b[0m\n",
      "[2024-12-20 16:53:30 +0100] [Agents] [INFO] \u001b[40m\u001b[34m[Frontier Agent] Frontier Agent completed - predicting $169.99\u001b[0m\n",
      "[2024-12-20 16:53:30 +0100] [Agents] [INFO] \u001b[40m\u001b[35m[Random Forest Agent] Random Forest Agent is starting a prediction\u001b[0m\n",
      "[2024-12-20 16:53:30 +0100] [Agents] [INFO] \u001b[40m\u001b[35m[Random Forest Agent] Random Forest Agent is starting a prediction\u001b[0m\n",
      "Batches: 100%|████████████████████████████████████| 1/1 [00:00<00:00, 28.44it/s]\n",
      "[2024-12-20 16:53:30 +0100] [Agents] [INFO] \u001b[40m\u001b[35m[Random Forest Agent] Random Forest Agent completed - predicting $334.32\u001b[0m\n",
      "[2024-12-20 16:53:30 +0100] [Agents] [INFO] \u001b[40m\u001b[35m[Random Forest Agent] Random Forest Agent completed - predicting $334.32\u001b[0m\n",
      "[2024-12-20 16:53:30 +0100] [Agents] [INFO] \u001b[40m\u001b[33m[Ensemble Agent] Ensemble Agent complete - returning $196.35\u001b[0m\n",
      "[2024-12-20 16:53:30 +0100] [Agents] [INFO] \u001b[40m\u001b[33m[Ensemble Agent] Ensemble Agent complete - returning $196.35\u001b[0m\n",
      "[2024-12-20 16:53:30 +0100] [Agents] [INFO] \u001b[40m\u001b[32m[Planning Agent] Planning Agent has processed a deal with discount $-103.65\u001b[0m\n",
      "[2024-12-20 16:53:30 +0100] [Agents] [INFO] \u001b[40m\u001b[32m[Planning Agent] Planning Agent has processed a deal with discount $-103.65\u001b[0m\n",
      "[2024-12-20 16:53:30 +0100] [Agents] [INFO] \u001b[40m\u001b[32m[Planning Agent] Planning Agent is pricing up a potential deal\u001b[0m\n",
      "[2024-12-20 16:53:30 +0100] [Agents] [INFO] \u001b[40m\u001b[32m[Planning Agent] Planning Agent is pricing up a potential deal\u001b[0m\n",
      "[2024-12-20 16:53:30 +0100] [Agents] [INFO] \u001b[40m\u001b[33m[Ensemble Agent] Running Ensemble Agent - collaborating with specialist, frontier and random forest agents\u001b[0m\n",
      "[2024-12-20 16:53:30 +0100] [Agents] [INFO] \u001b[40m\u001b[33m[Ensemble Agent] Running Ensemble Agent - collaborating with specialist, frontier and random forest agents\u001b[0m\n",
      "[2024-12-20 16:53:30 +0100] [Agents] [INFO] \u001b[40m\u001b[31m[Specialist Agent] Specialist Agent is calling remote fine-tuned model\u001b[0m\n",
      "[2024-12-20 16:53:30 +0100] [Agents] [INFO] \u001b[40m\u001b[31m[Specialist Agent] Specialist Agent is calling remote fine-tuned model\u001b[0m\n",
      "[2024-12-20 16:53:32 +0100] [Agents] [INFO] \u001b[40m\u001b[31m[Specialist Agent] Specialist Agent completed - predicting $700.00\u001b[0m\n",
      "[2024-12-20 16:53:32 +0100] [Agents] [INFO] \u001b[40m\u001b[31m[Specialist Agent] Specialist Agent completed - predicting $700.00\u001b[0m\n",
      "[2024-12-20 16:53:32 +0100] [Agents] [INFO] \u001b[40m\u001b[34m[Frontier Agent] Frontier Agent is performing a RAG search of the Chroma datastore to find 5 similar products\u001b[0m\n",
      "[2024-12-20 16:53:32 +0100] [Agents] [INFO] \u001b[40m\u001b[34m[Frontier Agent] Frontier Agent is performing a RAG search of the Chroma datastore to find 5 similar products\u001b[0m\n",
      "Batches: 100%|████████████████████████████████████| 1/1 [00:00<00:00,  9.40it/s]\n",
      "[2024-12-20 16:53:32 +0100] [Agents] [INFO] \u001b[40m\u001b[34m[Frontier Agent] Frontier Agent has found similar products\u001b[0m\n",
      "[2024-12-20 16:53:32 +0100] [Agents] [INFO] \u001b[40m\u001b[34m[Frontier Agent] Frontier Agent has found similar products\u001b[0m\n",
      "[2024-12-20 16:53:32 +0100] [Agents] [INFO] \u001b[40m\u001b[34m[Frontier Agent] Frontier Agent is about to call OpenAI with context including 5 similar products\u001b[0m\n",
      "[2024-12-20 16:53:32 +0100] [Agents] [INFO] \u001b[40m\u001b[34m[Frontier Agent] Frontier Agent is about to call OpenAI with context including 5 similar products\u001b[0m\n",
      "[2024-12-20 16:53:33 +0100] [Agents] [INFO] HTTP Request: POST https://api.openai.com/v1/chat/completions \"HTTP/1.1 200 OK\"\n",
      "[2024-12-20 16:53:33 +0100] [Agents] [INFO] HTTP Request: POST https://api.openai.com/v1/chat/completions \"HTTP/1.1 200 OK\"\n",
      "[2024-12-20 16:53:33 +0100] [Agents] [INFO] \u001b[40m\u001b[34m[Frontier Agent] Frontier Agent completed - predicting $589.00\u001b[0m\n",
      "[2024-12-20 16:53:33 +0100] [Agents] [INFO] \u001b[40m\u001b[34m[Frontier Agent] Frontier Agent completed - predicting $589.00\u001b[0m\n",
      "[2024-12-20 16:53:33 +0100] [Agents] [INFO] \u001b[40m\u001b[35m[Random Forest Agent] Random Forest Agent is starting a prediction\u001b[0m\n",
      "[2024-12-20 16:53:33 +0100] [Agents] [INFO] \u001b[40m\u001b[35m[Random Forest Agent] Random Forest Agent is starting a prediction\u001b[0m\n",
      "Batches: 100%|████████████████████████████████████| 1/1 [00:00<00:00, 35.67it/s]\n",
      "[2024-12-20 16:53:33 +0100] [Agents] [INFO] \u001b[40m\u001b[35m[Random Forest Agent] Random Forest Agent completed - predicting $283.76\u001b[0m\n",
      "[2024-12-20 16:53:33 +0100] [Agents] [INFO] \u001b[40m\u001b[35m[Random Forest Agent] Random Forest Agent completed - predicting $283.76\u001b[0m\n",
      "[2024-12-20 16:53:33 +0100] [Agents] [INFO] \u001b[40m\u001b[33m[Ensemble Agent] Ensemble Agent complete - returning $608.76\u001b[0m\n",
      "[2024-12-20 16:53:33 +0100] [Agents] [INFO] \u001b[40m\u001b[33m[Ensemble Agent] Ensemble Agent complete - returning $608.76\u001b[0m\n",
      "[2024-12-20 16:53:33 +0100] [Agents] [INFO] \u001b[40m\u001b[32m[Planning Agent] Planning Agent has processed a deal with discount $359.76\u001b[0m\n",
      "[2024-12-20 16:53:33 +0100] [Agents] [INFO] \u001b[40m\u001b[32m[Planning Agent] Planning Agent has processed a deal with discount $359.76\u001b[0m\n",
      "[2024-12-20 16:53:33 +0100] [Agents] [INFO] \u001b[40m\u001b[32m[Planning Agent] Planning Agent has identified the best deal has discount $359.76\u001b[0m\n",
      "[2024-12-20 16:53:33 +0100] [Agents] [INFO] \u001b[40m\u001b[32m[Planning Agent] Planning Agent has identified the best deal has discount $359.76\u001b[0m\n",
      "[2024-12-20 16:53:33 +0100] [Agents] [INFO] \u001b[40m\u001b[37m[Messaging Agent] Messaging Agent is sending a push notification\u001b[0m\n",
      "[2024-12-20 16:53:33 +0100] [Agents] [INFO] \u001b[40m\u001b[37m[Messaging Agent] Messaging Agent is sending a push notification\u001b[0m\n",
      "[2024-12-20 16:53:33 +0100] [Agents] [INFO] \u001b[40m\u001b[37m[Messaging Agent] Messaging Agent has completed\u001b[0m\n",
      "[2024-12-20 16:53:33 +0100] [Agents] [INFO] \u001b[40m\u001b[37m[Messaging Agent] Messaging Agent has completed\u001b[0m\n",
      "[2024-12-20 16:53:33 +0100] [Agents] [INFO] \u001b[40m\u001b[32m[Planning Agent] Planning Agent has completed a run\u001b[0m\n",
      "[2024-12-20 16:53:33 +0100] [Agents] [INFO] \u001b[40m\u001b[32m[Planning Agent] Planning Agent has completed a run\u001b[0m\n",
      "[2024-12-20 16:53:33 +0100] [Agents] [INFO] Planning Agent has completed and returned: deal=Deal(product_description='The Dell Latitude 5520 is an 11th-Gen Intel Core i5 laptop tailored for professional use, featuring robust performance with 16GB RAM and a spacious 512GB SSD. Its 15.6-inch Full HD display provides clear and vibrant visuals, making it suitable for presentations and multimedia tasks. Built to withstand everyday wear and tear, this laptop is perfect for both corporate environments and on-the-go professionals. Its extensive connectivity options include Thunderbolt, USB-C, and HDMI, ensuring compatibility with various devices and peripherals.', price=249.0, url='https://www.dealnews.com/Refurb-Dell-Laptop-Hot-Deals-from-249-free-shipping/21706712.html?iref=rss-c39') estimate=608.7631784746239 discount=359.76317847462394\n",
      "[2024-12-20 16:53:33 +0100] [Agents] [INFO] Planning Agent has completed and returned: deal=Deal(product_description='The Dell Latitude 5520 is an 11th-Gen Intel Core i5 laptop tailored for professional use, featuring robust performance with 16GB RAM and a spacious 512GB SSD. Its 15.6-inch Full HD display provides clear and vibrant visuals, making it suitable for presentations and multimedia tasks. Built to withstand everyday wear and tear, this laptop is perfect for both corporate environments and on-the-go professionals. Its extensive connectivity options include Thunderbolt, USB-C, and HDMI, ensuring compatibility with various devices and peripherals.', price=249.0, url='https://www.dealnews.com/Refurb-Dell-Laptop-Hot-Deals-from-249-free-shipping/21706712.html?iref=rss-c39') estimate=608.7631784746239 discount=359.76317847462394\n"
     ]
    }
   ],
   "source": [
    "!python price_is_right_final.py"
   ]
  },
  {
   "cell_type": "code",
   "execution_count": null,
   "id": "d468291f-abe2-4fd7-97a6-43c714292973",
   "metadata": {},
   "outputs": [],
   "source": []
  }
 ],
 "metadata": {
  "kernelspec": {
   "display_name": "Python 3 (ipykernel)",
   "language": "python",
   "name": "python3"
  },
  "language_info": {
   "codemirror_mode": {
    "name": "ipython",
    "version": 3
   },
   "file_extension": ".py",
   "mimetype": "text/x-python",
   "name": "python",
   "nbconvert_exporter": "python",
   "pygments_lexer": "ipython3",
   "version": "3.11.10"
  }
 },
 "nbformat": 4,
 "nbformat_minor": 5
}
