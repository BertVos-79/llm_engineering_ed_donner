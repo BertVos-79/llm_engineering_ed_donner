{
 "cells": [
  {
   "cell_type": "markdown",
   "id": "0df0d850-49eb-4a0b-a27a-146969db710d",
   "metadata": {},
   "source": [
    "# The Price is Right\n",
    "\n",
    "Today we'll build another piece of the puzzle: a ScanningAgent that looks for promising deals by subscribing to RSS feeds."
   ]
  },
  {
   "cell_type": "code",
   "execution_count": 1,
   "id": "d3763a79-8a5a-4300-8de4-93e85475af10",
   "metadata": {},
   "outputs": [],
   "source": [
    "# imports\n",
    "\n",
    "import os\n",
    "import json\n",
    "from dotenv import load_dotenv\n",
    "from openai import OpenAI\n",
    "from agents.deals import ScrapedDeal, DealSelection"
   ]
  },
  {
   "cell_type": "code",
   "execution_count": 2,
   "id": "c6469e32-16c3-4443-9475-ade710ef6933",
   "metadata": {},
   "outputs": [],
   "source": [
    "# Initialize and constants\n",
    "\n",
    "load_dotenv()\n",
    "os.environ['OPENAI_API_KEY'] = os.getenv('OPENAI_API_KEY', 'your-key-if-not-using-env')\n",
    "MODEL = 'gpt-4o-mini'\n",
    "openai = OpenAI()"
   ]
  },
  {
   "cell_type": "code",
   "execution_count": 3,
   "id": "afece9db-8cd4-46be-ac57-0b472e84da7d",
   "metadata": {},
   "outputs": [
    {
     "name": "stderr",
     "output_type": "stream",
     "text": [
      "\n",
      "00%|███████████████████████████████████████| 5/5 [01:44<00:00, 20.82s/it]"
     ]
    }
   ],
   "source": [
    "deals = ScrapedDeal.fetch(show_progress=True)"
   ]
  },
  {
   "cell_type": "code",
   "execution_count": 4,
   "id": "8cd15c4d-eb44-4601-bf0c-f945c1d8e3ec",
   "metadata": {},
   "outputs": [
    {
     "data": {
      "text/plain": [
       "50"
      ]
     },
     "execution_count": 4,
     "metadata": {},
     "output_type": "execute_result"
    }
   ],
   "source": [
    "len(deals)"
   ]
  },
  {
   "cell_type": "code",
   "execution_count": 5,
   "id": "4259f30a-6455-49ed-8863-2f9ddd4776cb",
   "metadata": {},
   "outputs": [
    {
     "data": {
      "text/plain": [
       "\"Title: Samsung Vacuum Deals: Up to $200 off + free shipping\\nDetails: Save on Samsung's range of stick and robot vacuums. Deals start from $259.99 with the pictured Samsung Jet 60 Pet Cordless Stick Vacuum Cleaner ($70 off). Shop Now at Samsung\\nFeatures: \\nURL: https://www.dealnews.com/Samsung-Vacuum-Deals-Up-to-200-off-free-shipping/21706685.html?iref=rss-c196\""
      ]
     },
     "execution_count": 5,
     "metadata": {},
     "output_type": "execute_result"
    }
   ],
   "source": [
    "deals[44].describe()"
   ]
  },
  {
   "cell_type": "code",
   "execution_count": 6,
   "id": "8100e5ac-38f5-40c1-a712-08ae12c85038",
   "metadata": {},
   "outputs": [],
   "source": [
    "system_prompt = \"\"\"You identify and summarize the 5 most detailed deals from a list, by selecting deals that have the most detailed, high quality description and the most clear price.\n",
    "Respond strictly in JSON with no explanation, using this format. You should provide the price as a number derived from the description. If the price of a deal isn't clear, do not include that deal in your response.\n",
    "Most important is that you respond with the 5 deals that have the most detailed product description with price. It's not important to mention the terms of the deal; most important is a thorough description of the product.\n",
    "Be careful with products that are described as \"$XXX off\" or \"reduced by $XXX\" - this isn't the actual price of the product. Only respond with products when you are highly confident about the price. \n",
    "\n",
    "{\"deals\": [\n",
    "    {\n",
    "        \"product_description\": \"Your clearly expressed summary of the product in 4-5 sentences. Details of the item are much more important than why it's a good deal. Avoid mentioning discounts and coupons; focus on the item itself. There should be a paragpraph of text for each item you choose.\",\n",
    "        \"price\": 99.99,\n",
    "        \"url\": \"the url as provided\"\n",
    "    },\n",
    "    ...\n",
    "]}\"\"\""
   ]
  },
  {
   "cell_type": "code",
   "execution_count": 7,
   "id": "f4bca170-af71-40c9-9597-1d72980c74d8",
   "metadata": {},
   "outputs": [],
   "source": [
    "user_prompt = \"\"\"Respond with the most promising 5 deals from this list, selecting those which have the most detailed, high quality product description and a clear price.\n",
    "Respond strictly in JSON, and only JSON. You should rephrase the description to be a summary of the product itself, not the terms of the deal.\n",
    "Remember to respond with a paragraph of text in the product_description field for each of the 5 items that you select.\n",
    "Be careful with products that are described as \"$XXX off\" or \"reduced by $XXX\" - this isn't the actual price of the product. Only respond with products when you are highly confident about the price. \n",
    "\n",
    "Deals:\n",
    "\n",
    "\"\"\"\n",
    "user_prompt += '\\n\\n'.join([deal.describe() for deal in deals])"
   ]
  },
  {
   "cell_type": "code",
   "execution_count": 8,
   "id": "020947a6-561b-417b-98a0-a085e31d2ce3",
   "metadata": {},
   "outputs": [
    {
     "name": "stdout",
     "output_type": "stream",
     "text": [
      "Respond with the most promising 5 deals from this list, selecting those which have the most detailed, high quality product description and a clear price.\n",
      "Respond strictly in JSON, and only JSON. You should rephrase the description to be a summary of the product itself, not the terms of the deal.\n",
      "Remember to respond with a paragraph of text in the product_description field for each of the 5 items that you select.\n",
      "Be careful with products that are described as \"$XXX off\" or \"reduced by $XXX\" - this isn't the actual price of the product. Only respond with products when you are highly confident about the price. \n",
      "\n",
      "Deals:\n",
      "\n",
      "Title: Samsung S90D Series QN42S90DAEXZA 42\" 4K HDR 144Hz OLED Smart TV for $1,100 + free shipping\n",
      "Details: That's $300 off, and the best price we could find for this OLED TV. Buy Now at Samsung\n",
      "Features: 3840x2160 (4K) native resolution OLED HDR 144Hz refresh rate w/ AMD FreeSync Tizen smart OS 4 HDMI inputs Model: QN42S90DAEXZA\n",
      "URL: https://www.dealnews.com/products/Samsung/Samsung-S90-D-Series-QN42-S90-DAEXZA-42-4-K-HDR-144-Hz-OLED-Smart-TV/485596.html?iref=rss-c142\n",
      "\n",
      "Title: Home Theater Deals at Adorama: Up to 61% off\n",
      "Details: You'll find a ton of different home theater items in this sale, including speakers, receivers, sound bars, subwoofers, and more. Not interested in a full home theater system? The sale also includes a variety of portable Bluetooth speakers, like the pictured Sony SRS-XG300 X-Series Portable Bluetooth Speaker in Black for $148 (57% off). Shop Now at Adorama\n",
      "Features: \n",
      "URL: https://www.dealnews.com/Home-Theater-Deals-at-Adorama-Up-to-61-off/21706662.html?iref=rss-c142\n",
      "\n",
      "Title: Camera Lens Deals at Adorama: Up to 77% off\n",
      "Details: Expand your camera's capabilities with a selection of new lenses and save while you're at it! Shipping varies, so you'll have to add items to your cart to see what kind of charges you'll incur. Pictured is the Lensbaby Velvet 85 85mm f/1.8 Lens for Micro Four Thirds in Silver for $299.95 (50% off). Shop Now\n"
     ]
    }
   ],
   "source": [
    "print(user_prompt[:2000])"
   ]
  },
  {
   "cell_type": "code",
   "execution_count": 9,
   "id": "7de46f74-868c-4127-8a68-cf2da7d600bb",
   "metadata": {},
   "outputs": [],
   "source": [
    "def get_recommendations():\n",
    "    completion = openai.beta.chat.completions.parse(\n",
    "        model=\"gpt-4o-mini\",\n",
    "        messages=[\n",
    "            {\"role\": \"system\", \"content\": system_prompt},\n",
    "            {\"role\": \"user\", \"content\": user_prompt}\n",
    "      ],\n",
    "        response_format=DealSelection\n",
    "    )\n",
    "    result = completion.choices[0].message.parsed\n",
    "    return result"
   ]
  },
  {
   "cell_type": "code",
   "execution_count": 10,
   "id": "4c06270d-8c17-4d5a-9cfe-b6cefe788d5e",
   "metadata": {},
   "outputs": [],
   "source": [
    "result = get_recommendations()"
   ]
  },
  {
   "cell_type": "code",
   "execution_count": 11,
   "id": "84e62845-3338-441a-8161-c70097af4773",
   "metadata": {},
   "outputs": [
    {
     "data": {
      "text/plain": [
       "5"
      ]
     },
     "execution_count": 11,
     "metadata": {},
     "output_type": "execute_result"
    }
   ],
   "source": [
    "len(result.deals)"
   ]
  },
  {
   "cell_type": "code",
   "execution_count": 12,
   "id": "e5554a0a-ae40-4684-ad3e-faa3d22e030c",
   "metadata": {},
   "outputs": [
    {
     "data": {
      "text/plain": [
       "Deal(product_description=\"The Fossil Men's Gen 6 44mm Wellness Smartwatch is designed to help you stay on top of your health and fitness goals. This smartwatch includes features such as an activity tracker for monitoring distance, GPS, step counts, and sleep patterns. Running on Wear OS by Google, it is compatible with Alexa and has an Always-On display for easy access to information. Built to be both stylish and functional, this watch is a perfect companion for daily wear.\", price=50.0, url='https://www.dealnews.com/products/Fossil/Fossil-Mens-Gen-6-44-mm-Wellness-Smartwatch/484830.html?iref=rss-c142')"
      ]
     },
     "execution_count": 12,
     "metadata": {},
     "output_type": "execute_result"
    }
   ],
   "source": [
    "result.deals[1]"
   ]
  },
  {
   "cell_type": "code",
   "execution_count": 13,
   "id": "8bdc57fb-7497-47af-a643-6ba5a21cc17e",
   "metadata": {},
   "outputs": [],
   "source": [
    "from agents.scanner_agent import ScannerAgent"
   ]
  },
  {
   "cell_type": "code",
   "execution_count": 14,
   "id": "132278bc-217a-43a6-b6c4-724140c6a225",
   "metadata": {},
   "outputs": [],
   "source": [
    "agent = ScannerAgent()\n",
    "result = agent.scan()"
   ]
  },
  {
   "cell_type": "code",
   "execution_count": 15,
   "id": "2e1d013a-c930-4dad-901b-41433379e14b",
   "metadata": {},
   "outputs": [
    {
     "data": {
      "text/plain": [
       "DealSelection(deals=[Deal(product_description='The Samsung S90D Series QN42S90DAEXZA is a stunning 42-inch OLED Smart TV that offers an immersive viewing experience with its native 4K resolution of 3840x2160. This television features a high dynamic range (HDR) and a 144Hz refresh rate, ensuring smooth motion and vibrant colors. With AMD FreeSync technology, it minimizes lag for a better gaming experience. The smart operating system, Tizen, provides access to various streaming services and apps, making it a versatile entertainment hub.', price=1100.0, url='https://www.dealnews.com/products/Samsung/Samsung-S90-D-Series-QN42-S90-DAEXZA-42-4-K-HDR-144-Hz-OLED-Smart-TV/485596.html?iref=rss-c142'), Deal(product_description='The Lensbaby Velvet 85 is an innovative 85mm f/1.8 lens designed for Micro Four Thirds cameras, which excels in creating beautiful, artistic images with a dreamy, velvety characteristic. It features a unique optical design that provides exceptional sharpness and stunning bokeh, making it perfect for portrait photography. This lens is also characterized by its ability to create a beautiful swirl in the background blur, achieving a distinctive look that enhances subjects dramatically.', price=299.95, url='https://www.dealnews.com/Camera-Lens-Deals-at-Adorama-Up-to-77-off/21706659.html?iref=rss-c142'), Deal(product_description=\"The Fossil Men's Gen 6 Wellness Smartwatch is a stylish and functional device, featuring a 44mm case that is compatible with Wear OS by Google. This smartwatch comes equipped with a variety of health-tracking features including activity, distance, GPS, step, and sleep tracking, providing users with holistic insights into their wellness. Additional features include an always-on display and Alexa compatibility, making it both a practical gadget and a fashionable accessory.\", price=50.0, url='https://www.dealnews.com/products/Fossil/Fossil-Mens-Gen-6-44-mm-Wellness-Smartwatch/484830.html?iref=rss-c142'), Deal(product_description='The 2nd-Gen. Apple HomePod smart speaker is an advanced audio device available in Midnight or White, designed to fill your home with rich, high-quality sound. It features spatial audio capabilities and is equipped with a high-excursion woofer and five tweeters, which allow for a 360-degree sound experience. This smart speaker also integrates seamlessly with Apple Music, providing users three months of complimentary subscription upon purchase. Siri voice recognition adds practical functionality to this luxurious home device.', price=299.0, url='https://www.dealnews.com/products/Apple/2-nd-Gen-Apple-Home-Pod-Smart-Speaker-2023/467409.html?iref=rss-f1912'), Deal(product_description='The Insignia Class F30 Series NS-55F301NA25 is a well-rounded 55-inch 4K HDR LED UHD Smart TV that brings your favorite shows and movies to life with stunning clarity. It boasts a resolution of 3840x2160 and is fully integrated with Amazon Fire TV capabilities along with compatibility for Alexa and Google Home, allowing for voice control functionality. The TV offers multiple HDMI ports for straightforward connectivity to gaming consoles and other devices, making it an excellent multimedia hub for your living space.', price=200.0, url='https://www.dealnews.com/products/Insignia/Insignia-Class-F30-Series-NS-55-F301-NA25-55-4-K-HDR-LED-UHD-Smart-TV/467523.html?iref=rss-f1912')])"
      ]
     },
     "execution_count": 15,
     "metadata": {},
     "output_type": "execute_result"
    }
   ],
   "source": [
    "result"
   ]
  },
  {
   "cell_type": "code",
   "execution_count": null,
   "id": "5ee2e837-1f1d-42d4-8bc4-51cccc343006",
   "metadata": {},
   "outputs": [],
   "source": []
  }
 ],
 "metadata": {
  "kernelspec": {
   "display_name": "Python 3 (ipykernel)",
   "language": "python",
   "name": "python3"
  },
  "language_info": {
   "codemirror_mode": {
    "name": "ipython",
    "version": 3
   },
   "file_extension": ".py",
   "mimetype": "text/x-python",
   "name": "python",
   "nbconvert_exporter": "python",
   "pygments_lexer": "ipython3",
   "version": "3.11.10"
  }
 },
 "nbformat": 4,
 "nbformat_minor": 5
}
