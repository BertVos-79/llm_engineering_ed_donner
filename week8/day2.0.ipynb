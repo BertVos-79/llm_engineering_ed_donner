{
 "cells": [
  {
   "cell_type": "markdown",
   "id": "046fd8f8-ad14-4c7f-b759-fec52f5b5306",
   "metadata": {},
   "source": [
    "# The Price is Right\n",
    "\n",
    "Today we build a more complex solution for estimating prices of goods.\n",
    "\n",
    "1. This notebook: create a RAG database with our 400,000 training data\n",
    "2. Day 2.1 notebook: visualize in 2D\n",
    "3. Day 2.2 notebook: visualize in 3D\n",
    "4. Day 2.3 notebook: build and test a RAG pipeline with GPT-4o-mini\n",
    "5. Day 2.4 notebook: (a) bring back our Random Forest pricer (b) Create a Ensemble pricer that allows contributions from all the pricers\n",
    "\n",
    "Phew! That's a lot to get through in one day!\n",
    "\n",
    "## PLEASE NOTE:\n",
    "\n",
    "We already have a very powerful product estimator with our proprietary, fine-tuned LLM. Most people would be very satisfied with that! The main reason we're adding these extra steps is to deepen your expertise with RAG and with Agentic workflows.\n"
   ]
  },
  {
   "cell_type": "code",
   "execution_count": 1,
   "id": "993a2a24-1a58-42be-8034-6d116fb8d786",
   "metadata": {},
   "outputs": [],
   "source": [
    "# imports\n",
    "\n",
    "import os\n",
    "import re\n",
    "import math\n",
    "import json\n",
    "from tqdm import tqdm\n",
    "import random\n",
    "from dotenv import load_dotenv\n",
    "from huggingface_hub import login\n",
    "import numpy as np\n",
    "import pickle\n",
    "from sentence_transformers import SentenceTransformer\n",
    "from datasets import load_dataset\n",
    "import chromadb\n",
    "from items import Item\n",
    "from sklearn.manifold import TSNE\n",
    "import plotly.graph_objects as go"
   ]
  },
  {
   "cell_type": "code",
   "execution_count": 2,
   "id": "2359ccc0-dbf2-4b1e-9473-e472b32f548b",
   "metadata": {},
   "outputs": [],
   "source": [
    "# environment\n",
    "\n",
    "load_dotenv()\n",
    "os.environ['OPENAI_API_KEY'] = os.getenv('OPENAI_API_KEY', 'your-key-if-not-using-env')\n",
    "os.environ['HF_TOKEN'] = os.getenv('HF_TOKEN', 'your-key-if-not-using-env')\n",
    "DB = \"products_vectorstore\""
   ]
  },
  {
   "cell_type": "code",
   "execution_count": 3,
   "id": "645167e6-cf0d-42d2-949f-1089a25a2841",
   "metadata": {},
   "outputs": [
    {
     "name": "stderr",
     "output_type": "stream",
     "text": [
      "Note: Environment variable`HF_TOKEN` is set and is the current active token independently from the token you've just configured.\n"
     ]
    }
   ],
   "source": [
    "# Log in to HuggingFace\n",
    "\n",
    "hf_token = os.environ['HF_TOKEN']\n",
    "login(hf_token, add_to_git_credential=True)"
   ]
  },
  {
   "cell_type": "markdown",
   "id": "3d4995a4-f67f-4871-87df-8c6439b06366",
   "metadata": {},
   "source": [
    "## Back to the pkl files\n",
    "\n",
    "Much as we enjoyed data curating in week 6, we probably don't want to go through that whole process again!\n",
    "\n",
    "Let's reuse the pkl files we created then. Either copy the files `train.pkl` and `test.pkl` from the Week 6 folder into this Week 8 folder, or you can also download them from here:\n",
    "\n",
    "https://drive.google.com/drive/folders/1f_IZGybvs9o0J5sb3xmtTEQB3BXllzrW?usp=drive_link"
   ]
  },
  {
   "cell_type": "code",
   "execution_count": 4,
   "id": "688bd995-ec3e-43cd-8179-7fe14b275877",
   "metadata": {},
   "outputs": [],
   "source": [
    "# With train.pkl in this folder, you can run this:\n",
    "\n",
    "with open('train.pkl', 'rb') as file:\n",
    "    train = pickle.load(file)"
   ]
  },
  {
   "cell_type": "code",
   "execution_count": 5,
   "id": "2817eaf5-4302-4a18-9148-d1062e3b3dbb",
   "metadata": {},
   "outputs": [
    {
     "data": {
      "text/plain": [
       "'How much does this cost to the nearest dollar?\\n\\nDelphi FG0166 Fuel Pump Module\\nDelphi brings 80 years of OE Heritage into each Delphi pump, ensuring quality and fitment for each Delphi part. Part is validated, tested and matched to the right vehicle application Delphi brings 80 years of OE Heritage into each Delphi assembly, ensuring quality and fitment for each Delphi part Always be sure to check and clean fuel tank to avoid unnecessary returns Rigorous OE-testing ensures the pump can withstand extreme temperatures Brand Delphi, Fit Type Vehicle Specific Fit, Dimensions LxWxH 19.7 x 7.7 x 5.1 inches, Weight 2.2 Pounds, Auto Part Position Unknown, Operation Mode Mechanical, Manufacturer Delphi, Model FUEL PUMP, Dimensions 19.7\\n\\nPrice is $227.00'"
      ]
     },
     "execution_count": 5,
     "metadata": {},
     "output_type": "execute_result"
    }
   ],
   "source": [
    "train[0].prompt"
   ]
  },
  {
   "cell_type": "markdown",
   "id": "9ae1ba16-7e80-4096-ac88-64ef8edcc80c",
   "metadata": {},
   "source": [
    "# Now create a Chroma Datastore\n",
    "\n",
    "In Week 5, we created a Chroma datastore with 123 documents representing chunks of objects from our fictional company Insurellm.\n",
    "\n",
    "Now we will create a Chroma datastore with 400,000 products from our training dataset! It's getting real!\n",
    "\n",
    "Note that we won't be using LangChain, but the API is very straightforward and consistent with before."
   ]
  },
  {
   "cell_type": "code",
   "execution_count": 6,
   "id": "f4aab95e-d719-4476-b6e7-e248120df25a",
   "metadata": {},
   "outputs": [],
   "source": [
    "client = chromadb.PersistentClient(path=DB)"
   ]
  },
  {
   "cell_type": "code",
   "execution_count": 7,
   "id": "5f95dafd-ab80-464e-ba8a-dec7a2424780",
   "metadata": {},
   "outputs": [],
   "source": [
    "# Check if the collection exists and delete it if it does\n",
    "collection_name = \"products\"\n",
    "existing_collection_names = [collection.name for collection in client.list_collections()]\n",
    "if collection_name in existing_collection_names:\n",
    "    client.delete_collection(collection_name)\n",
    "    print(f\"Deleted existing collection: {collection_name}\")\n",
    "\n",
    "collection = client.create_collection(collection_name)"
   ]
  },
  {
   "cell_type": "markdown",
   "id": "d392ed28-203d-4e73-be87-ac1390bdf722",
   "metadata": {},
   "source": [
    "# Introducing the SentenceTransfomer\n",
    "\n",
    "The all-MiniLM is a very useful model from HuggingFace that maps sentences & paragraphs to a 384 dimensional dense vector space and is ideal for tasks like semantic search.\n",
    "\n",
    "https://huggingface.co/sentence-transformers/all-MiniLM-L6-v2\n",
    "\n",
    "It can run pretty quickly locally.\n",
    "\n",
    "Last time we used OpenAI embeddings to produce vector embeddings. Benefits compared to OpenAI embeddings:\n",
    "1. It's free and fast!\n",
    "3. We can run it locally, so the data never leaves our box - might be useful if you're building a personal RAG\n"
   ]
  },
  {
   "cell_type": "code",
   "execution_count": 8,
   "id": "a87db200-d19d-44bf-acbd-15c45c70f5c9",
   "metadata": {},
   "outputs": [],
   "source": [
    "model = SentenceTransformer('sentence-transformers/all-MiniLM-L6-v2')"
   ]
  },
  {
   "cell_type": "code",
   "execution_count": 9,
   "id": "9b23a025-4c35-4d3a-96ad-b956cad37b0a",
   "metadata": {},
   "outputs": [],
   "source": [
    "# Pass in a list of texts, get back a numpy array of vectors\n",
    "\n",
    "vector = model.encode([\"Well hi there\"])[0]"
   ]
  },
  {
   "cell_type": "code",
   "execution_count": 10,
   "id": "8adde63f-e732-4f7c-bba9-f8b2a469f14e",
   "metadata": {},
   "outputs": [
    {
     "data": {
      "text/plain": [
       "array([-9.46716219e-02,  4.27619480e-02,  5.51620498e-02, -5.10988175e-04,\n",
       "        1.16203250e-02, -6.80130497e-02,  2.76405774e-02,  6.06974475e-02,\n",
       "        2.88530812e-02, -1.74128097e-02, -4.94346768e-02,  2.30993237e-02,\n",
       "       -1.28614614e-02, -4.31402996e-02,  2.17510313e-02,  4.26548831e-02,\n",
       "        5.10500148e-02, -7.79727027e-02, -1.23247221e-01,  3.67455333e-02,\n",
       "        4.54111304e-03,  9.47937593e-02, -5.53099029e-02,  1.70641448e-02,\n",
       "       -2.92873327e-02, -4.47124913e-02,  2.06784345e-02,  6.39320314e-02,\n",
       "        2.27427501e-02,  4.87789810e-02, -2.33504735e-03,  4.72859591e-02,\n",
       "       -2.86259353e-02,  2.30624937e-02,  2.45130062e-02,  3.95682007e-02,\n",
       "       -4.33176458e-02, -1.02316640e-01,  2.79877451e-03,  2.39304639e-02,\n",
       "        1.61556173e-02, -8.99082329e-03,  2.07255706e-02,  6.40123263e-02,\n",
       "        6.89179301e-02, -6.98360950e-02,  2.89763161e-03, -8.10989290e-02,\n",
       "        1.71123073e-02,  2.50653992e-03, -1.06529057e-01, -4.87733372e-02,\n",
       "       -1.67762227e-02, -2.28662379e-02,  1.14816584e-01,  4.87412997e-02,\n",
       "       -1.64961945e-02, -6.90832138e-02,  1.13612086e-01, -7.18485415e-02,\n",
       "       -9.01570991e-02,  3.90876448e-06, -8.66768956e-02, -4.05916572e-02,\n",
       "        3.71317640e-02, -1.77618414e-02, -5.57463951e-02, -4.57097292e-02,\n",
       "       -5.43141440e-02, -4.00611646e-02, -4.60227840e-02,  2.82194000e-02,\n",
       "       -2.33606212e-02,  1.44406892e-02, -1.52777517e-02, -4.34328727e-02,\n",
       "        6.81274831e-02,  8.21894631e-02,  7.83888251e-03, -2.85973009e-02,\n",
       "        6.14309534e-02, -4.92684916e-02,  3.27054900e-03, -2.72682607e-02,\n",
       "       -4.59346920e-02, -2.60167867e-02,  5.70650026e-02, -5.86434035e-04,\n",
       "       -4.37076539e-02, -2.47791293e-04, -8.73550028e-02,  3.48776430e-02,\n",
       "        1.39327375e-02, -1.60043985e-02,  2.86958758e-02, -9.48595703e-02,\n",
       "        9.40612778e-02,  5.92685379e-02, -8.65014568e-02,  1.45011440e-01,\n",
       "        2.35388558e-02,  3.43325250e-02,  2.51507765e-04,  7.15541393e-02,\n",
       "       -3.12182605e-02,  3.86665650e-02, -2.47745495e-02,  6.52674288e-02,\n",
       "       -8.28817263e-02, -2.80247200e-02,  9.34544299e-03, -7.85542466e-03,\n",
       "        5.30728363e-02,  2.96895728e-02,  3.27329971e-02,  4.94736992e-02,\n",
       "        2.52208915e-02,  4.67068404e-02,  5.03403321e-02, -7.23745227e-02,\n",
       "        2.54435055e-02, -3.67216431e-02,  1.27570294e-02,  1.46063520e-02,\n",
       "        2.11492646e-02, -5.56909442e-02, -9.18508414e-03, -5.63399106e-34,\n",
       "        9.58769694e-02,  5.94578013e-02,  5.11445478e-02,  3.36359888e-02,\n",
       "       -1.34414593e-02, -2.77202949e-02, -3.48436236e-02,  1.80352628e-02,\n",
       "       -2.53210850e-02,  6.73588831e-03,  5.47840819e-02, -3.60573940e-02,\n",
       "       -5.20869978e-02, -2.90345550e-02,  4.38961480e-03,  6.50023222e-02,\n",
       "        3.07485033e-02,  2.00220682e-02,  1.73038431e-03,  2.96724308e-03,\n",
       "        3.40954633e-03, -6.78145364e-02,  3.41304615e-02,  8.37869011e-03,\n",
       "        5.39904200e-02,  2.70389523e-02,  7.84119517e-02, -1.30136192e-01,\n",
       "        4.84650247e-02,  5.14179170e-02, -7.94680230e-03,  5.57882711e-03,\n",
       "       -5.31025864e-02,  3.81299332e-02, -3.05512939e-02, -7.69778788e-02,\n",
       "        1.20531451e-02, -4.08993289e-02, -8.69358927e-02,  6.38056323e-02,\n",
       "        1.68674588e-02,  1.68735243e-03,  6.28894567e-02, -1.67711545e-02,\n",
       "        2.15586312e-02,  7.10073102e-04,  2.81030685e-03, -8.89792852e-03,\n",
       "       -1.80887617e-02, -2.16217283e-02, -5.59149683e-02,  1.78774446e-02,\n",
       "       -9.27093178e-02,  7.27911899e-03, -1.27753615e-01, -4.86937612e-02,\n",
       "        1.45872170e-02, -1.62751433e-02,  6.75622523e-02,  3.87702249e-02,\n",
       "        7.23295137e-02,  9.14992020e-02, -9.65292007e-02,  4.84791845e-02,\n",
       "       -1.06274158e-01, -1.05042569e-02,  8.90350491e-02, -8.07525814e-02,\n",
       "        7.87082016e-02, -2.04918236e-02, -5.55080585e-02, -3.31532881e-02,\n",
       "       -2.14429311e-02,  4.94700372e-02, -7.05119371e-02,  6.63998798e-02,\n",
       "        7.39671290e-02, -2.70118378e-03,  1.62262395e-02, -3.98229249e-02,\n",
       "        5.94092533e-02, -7.14369584e-03, -3.33479457e-02,  2.30419450e-02,\n",
       "        1.87185798e-02, -6.15725033e-02, -8.55429855e-04, -1.05786659e-01,\n",
       "       -8.43619108e-02, -3.92993353e-02, -3.16447504e-02,  6.60644174e-02,\n",
       "        9.41815898e-02, -8.35982561e-02,  9.50879510e-03,  1.25505190e-34,\n",
       "        6.38198331e-02,  2.11371165e-02, -1.65899731e-02,  1.88641567e-02,\n",
       "       -5.57019077e-02,  1.82811590e-03, -1.37586733e-02,  8.16279054e-02,\n",
       "       -9.13297161e-02,  7.06856027e-02,  6.79991245e-02, -5.44536486e-02,\n",
       "        3.80394608e-02,  3.80504481e-03,  1.03689790e-01,  7.32789456e-04,\n",
       "        2.95661669e-02,  4.19424027e-02, -1.20444305e-01,  1.24932062e-02,\n",
       "       -5.53506352e-02,  1.75228398e-02, -2.28164829e-02, -5.79299256e-02,\n",
       "        9.42928344e-03, -5.42280637e-03, -3.94940237e-03,  2.82348637e-02,\n",
       "       -1.28066912e-01, -1.31305000e-02,  7.42957294e-02, -1.74529776e-02,\n",
       "       -9.72758681e-02,  8.25621933e-03,  2.06901114e-02, -5.29769855e-03,\n",
       "       -1.37696294e-02, -3.50973792e-02,  1.74977686e-02, -1.76233277e-02,\n",
       "       -6.50825724e-02, -3.84675600e-02, -8.76397192e-02,  3.21291946e-02,\n",
       "        2.55019753e-03, -2.09378544e-02,  5.55309989e-02,  2.57095657e-02,\n",
       "       -2.94735115e-02,  1.25048086e-02, -6.83466196e-02, -8.00624490e-02,\n",
       "       -1.46906460e-02,  1.03744566e-02, -8.51862952e-02, -1.10538891e-02,\n",
       "        2.14596223e-02,  4.08609249e-02,  3.31646241e-02, -2.76757311e-02,\n",
       "       -2.01877560e-02,  8.98881536e-03,  3.92048545e-02,  1.15103342e-01,\n",
       "        5.50440885e-02,  2.72754729e-02, -1.09526709e-01, -1.72622744e-02,\n",
       "        1.33438511e-02, -1.73702370e-02, -5.04373200e-03, -2.00292747e-02,\n",
       "        1.16672359e-01, -1.84323434e-02,  3.70628014e-02,  1.60885882e-02,\n",
       "        3.48830298e-02,  5.50574474e-02, -6.60797721e-03,  7.06828535e-02,\n",
       "        4.07849029e-02, -1.43314665e-02, -2.85442546e-03,  2.74252072e-02,\n",
       "       -4.26769033e-02,  1.26583474e-02,  3.34343426e-02,  1.62644945e-02,\n",
       "        1.19263334e-02, -2.92119309e-02,  2.73977928e-02,  3.44305038e-02,\n",
       "        2.52832230e-02,  3.07514369e-02,  3.22557501e-02, -1.74628507e-08,\n",
       "       -1.52690774e-02,  5.37680509e-03,  1.41246527e-01,  5.08366376e-02,\n",
       "        5.32256104e-02,  9.67938453e-02,  4.33674529e-02, -6.48309104e-03,\n",
       "        1.58604216e-02,  4.05630916e-02,  6.94985390e-02,  6.04905523e-02,\n",
       "       -6.26189113e-02, -3.96144092e-02,  1.10648863e-01,  1.67735610e-02,\n",
       "       -7.68694095e-03,  2.59615015e-02, -5.28792962e-02, -2.22318415e-02,\n",
       "        1.74596272e-02,  4.75340113e-02,  3.27674486e-02, -4.59684953e-02,\n",
       "        2.01770626e-02, -1.60875823e-02, -1.58613529e-02, -1.66658182e-02,\n",
       "       -3.05246841e-02, -3.87907363e-02, -1.27654485e-02,  6.57610595e-02,\n",
       "       -2.22503282e-02, -9.44994017e-03,  2.32079979e-02,  2.66038235e-02,\n",
       "        2.14203596e-02, -7.54579809e-03,  8.84752274e-02, -9.43514034e-02,\n",
       "       -5.74870482e-02, -7.77097717e-02,  1.95794250e-03, -1.50347678e-02,\n",
       "       -8.08495097e-03,  1.88217629e-02,  8.42523295e-03, -3.78591754e-02,\n",
       "        1.24534424e-02, -7.94995874e-02, -2.15790980e-02,  1.20276390e-02,\n",
       "        1.74870919e-02,  8.74478742e-02,  6.64091483e-02,  3.13736983e-02,\n",
       "       -1.00629069e-02,  2.07700897e-02, -5.20163290e-02, -8.91333446e-03,\n",
       "        1.48542374e-01, -2.51264917e-03,  9.93156061e-02,  2.34929714e-02],\n",
       "      dtype=float32)"
      ]
     },
     "execution_count": 10,
     "metadata": {},
     "output_type": "execute_result"
    }
   ],
   "source": [
    "vector"
   ]
  },
  {
   "cell_type": "code",
   "execution_count": 11,
   "id": "38de1bf8-c9b5-45b4-9f4b-86af93b3f80d",
   "metadata": {},
   "outputs": [],
   "source": [
    "def description(item):\n",
    "    text = item.prompt.replace(\"How much does this cost to the nearest dollar?\\n\\n\", \"\")\n",
    "    return text.split(\"\\n\\nPrice is $\")[0]"
   ]
  },
  {
   "cell_type": "code",
   "execution_count": 12,
   "id": "8c1205bd-4692-44ef-8ea4-69f255354537",
   "metadata": {},
   "outputs": [
    {
     "data": {
      "text/plain": [
       "'Delphi FG0166 Fuel Pump Module\\nDelphi brings 80 years of OE Heritage into each Delphi pump, ensuring quality and fitment for each Delphi part. Part is validated, tested and matched to the right vehicle application Delphi brings 80 years of OE Heritage into each Delphi assembly, ensuring quality and fitment for each Delphi part Always be sure to check and clean fuel tank to avoid unnecessary returns Rigorous OE-testing ensures the pump can withstand extreme temperatures Brand Delphi, Fit Type Vehicle Specific Fit, Dimensions LxWxH 19.7 x 7.7 x 5.1 inches, Weight 2.2 Pounds, Auto Part Position Unknown, Operation Mode Mechanical, Manufacturer Delphi, Model FUEL PUMP, Dimensions 19.7'"
      ]
     },
     "execution_count": 12,
     "metadata": {},
     "output_type": "execute_result"
    }
   ],
   "source": [
    "description(train[0])"
   ]
  },
  {
   "cell_type": "code",
   "execution_count": 13,
   "id": "8c79e2fe-1f50-4ebf-9a93-34f3088f2996",
   "metadata": {},
   "outputs": [
    {
     "name": "stderr",
     "output_type": "stream",
     "text": [
      "\n",
      "00%|███████████████████████████████████| 400/400 [30:25<00:00,  4.56s/it]"
     ]
    }
   ],
   "source": [
    "for i in tqdm(range(0, len(train), 1000)):\n",
    "    documents = [description(item) for item in train[i: i+1000]]\n",
    "    vectors = model.encode(documents).astype(float).tolist()\n",
    "    metadatas = [{\"category\": item.category, \"price\": item.price} for item in train[i: i+1000]]\n",
    "    ids = [f\"doc_{j}\" for j in range(i, i+1000)]\n",
    "    collection.add(\n",
    "        ids=ids,\n",
    "        documents=documents,\n",
    "        embeddings=vectors,\n",
    "        metadatas=metadatas\n",
    "    )"
   ]
  }
 ],
 "metadata": {
  "kernelspec": {
   "display_name": "Python 3 (ipykernel)",
   "language": "python",
   "name": "python3"
  },
  "language_info": {
   "codemirror_mode": {
    "name": "ipython",
    "version": 3
   },
   "file_extension": ".py",
   "mimetype": "text/x-python",
   "name": "python",
   "nbconvert_exporter": "python",
   "pygments_lexer": "ipython3",
   "version": "3.11.10"
  }
 },
 "nbformat": 4,
 "nbformat_minor": 5
}
